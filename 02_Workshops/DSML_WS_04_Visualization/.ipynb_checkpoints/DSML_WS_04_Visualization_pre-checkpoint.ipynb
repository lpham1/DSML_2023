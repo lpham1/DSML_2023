{
 "cells": [
  {
   "cell_type": "markdown",
   "metadata": {},
   "source": [
    "# `DSML_WS_04` - Introduction to Visualization with Matplotlib and Seaborn"
   ]
  },
  {
   "cell_type": "markdown",
   "metadata": {},
   "source": [
    "In this tutorial we will continue with our introduction to Python programming for data science. Today we will focus on **visualization**.\n",
    "\n",
    "We will go through the following:\n",
    "\n",
    "- **Introduction to visualization with `Matplotlib`**: Learn how you can use `Matplotlib` to produce plots that effectively communicate your data\n",
    "- **Advanced visualization in `Seaborn`**: Use `Seaborn`' for advanced visualization of complex relationships"
   ]
  },
  {
   "cell_type": "markdown",
   "metadata": {},
   "source": [
    "## `Matplotlib`"
   ]
  },
  {
   "cell_type": "markdown",
   "metadata": {},
   "source": [
    "Matplotlib is a multi-platform data visualization library built on NumPy arrays. It was originally designed as a patch to IPython for enabling interactive MATLAB-style plotting from the IPython command line. To those of you with experience in working with MATLAB some of the functionality and styles may, therefore, seem familiar, although syntax varies.\n",
    "\n",
    "Matplotlib allows for abundant modification and personalization of graphs and plots, which cannot all be covered within the scope of this tutorial. However, when working with the library, the Matplotlib website can act as a powerful reference and source of inspiration. Please have a look [here](https://matplotlib.org/#installation).\n",
    "\n",
    "Despite being one of the oldest  visualization libraries in Python, Matplotlib is still widely used and valued as a well proven, stable and easy to use tool. New add-ons building on the Matplotlib API and using largely the same code such as Seaborn have emerged, which mainly exhibit slicker designs. These tools are for you to be checked out in your own time and are not part of this course.\n",
    "\n",
    "Today we will show you:\n",
    "* How to plot simple graphs\n",
    "* How to modify the size, shape and design of your graph\n",
    "* The different plot styles\n",
    "* How to apply these on real data by working through an exercise"
   ]
  },
  {
   "cell_type": "markdown",
   "metadata": {},
   "source": [
    "Just as we use the __np__ shorthand for NumPy and the __pd__ shorthand for Pandas, we will use some standard shorthands for Matplotlib imports:"
   ]
  },
  {
   "cell_type": "code",
   "execution_count": 2,
   "metadata": {},
   "outputs": [],
   "source": [
    "import numpy as np\n",
    "import pandas as pd\n",
    "import matplotlib as mpl\n",
    "import matplotlib.pyplot as plt"
   ]
  },
  {
   "cell_type": "markdown",
   "metadata": {},
   "source": [
    "Plotting interactively within an IPython notebook can be done with the %matplotlib command, and works in a similar way to the IPython shell. In the IPython notebook, you also have the option of embedding graphics directly in the notebook, with two possible options:\n",
    "* `%matplotlib notebook` will lead to interactive plots embedded within the notebook\n",
    "* `%matplotlib inline` will lead to static images of your plot embedded in the notebook\n",
    "\n",
    "For this book, we will generally opt for `%matplotlib inline`:"
   ]
  },
  {
   "cell_type": "code",
   "execution_count": 3,
   "metadata": {},
   "outputs": [],
   "source": [
    "%matplotlib inline"
   ]
  },
  {
   "cell_type": "markdown",
   "metadata": {},
   "source": [
    "### Plots and Sub-Plots\n",
    "\n",
    "We will illustrate the basic functionality of Matplotlib by plotting two simple exponential functions and a simple linear function (x, x^2 and x^3) as line plots.\n",
    "\n",
    "#### Creating a single (line) plot\n",
    "\n",
    "For defining the plot we use `plt.plot()`. The command `plt.show()` then starts an event loop by looking for all currently active figure objects, and opening one or more interactive windows that display your figure(s). "
   ]
  },
  {
   "cell_type": "code",
   "execution_count": null,
   "metadata": {},
   "outputs": [],
   "source": [
    "x = np.linspace(0, 5, 100)\n",
    "\n",
    "y1=x\n",
    "y2=x**2\n",
    "y3=x**3\n",
    "\n",
    "plt.plot(x, y1)\n",
    "plt.plot(x, y2)\n",
    "plt.plot(x, y3)\n",
    "\n",
    "plt.show()"
   ]
  },
  {
   "cell_type": "markdown",
   "metadata": {},
   "source": [
    "#### Annotating and labelling plots\n",
    "We can optimize the resulting plot in various ways, e.g.:\n",
    "\n",
    "* Set a title: `plt.title('name')`\n",
    "* Name the axes: `plt.xlabel('name')`, `plt.ylabel('name')`\n",
    "* Include a legend: `plt.plot(label=\"xx\")` and `plt.legend()`"
   ]
  },
  {
   "cell_type": "code",
   "execution_count": null,
   "metadata": {},
   "outputs": [],
   "source": [
    "\n",
    "# Add labels to the plots (will show up in legend)\n",
    "plt.plot(x, y1, label=\"linear\")\n",
    "plt.plot(x, y2, label=\"quadratic\")\n",
    "plt.plot(x, y3, label=\"cubic\")\n",
    "\n",
    "# Add diagram and axes titles\n",
    "plt.xlabel('x', fontsize=16, fontname=\"Arial\")\n",
    "plt.ylabel('f(x)', fontsize=16)\n",
    "plt.title('Test diagram', fontsize=20)\n",
    "\n",
    "# Display legend\n",
    "# Use loc function to choose optimal position of legend (loc=0 means Matplotlib chooses optimal position independently)\n",
    "\n",
    "plt.legend(loc=\"upper left\")\n",
    "\n",
    "# Show plot\n",
    "plt.show()"
   ]
  },
  {
   "cell_type": "markdown",
   "metadata": {},
   "source": [
    "#### Creating multiple sub plots\n",
    "\n",
    "Sometimes we may wish to see multiple sub-plots next to each other. For this `plt.subplot()` is a useful tool. We will demonstrate with a quick example."
   ]
  },
  {
   "cell_type": "code",
   "execution_count": null,
   "metadata": {},
   "outputs": [],
   "source": [
    "# plt.subplot syntax: (# of rows, # of columns, plot number)\n",
    "\n",
    "# subplot no. 1\n",
    "plt.subplot(1,2,1)\n",
    "plt.xlabel('x-axis')\n",
    "plt.ylabel('y-axis')\n",
    "plt.title('diagram #1')\n",
    "plt.plot(x, y2)\n",
    "\n",
    "# subplot no. 2\n",
    "plt.subplot(1,2,2)\n",
    "plt.xlabel('x-axis')\n",
    "plt.ylabel('y-axis')\n",
    "plt.title('diagram #2')\n",
    "plt.plot(y2, x)\n",
    "\n",
    "plt.show()"
   ]
  },
  {
   "cell_type": "markdown",
   "metadata": {},
   "source": [
    "### Object-based plotting\n",
    "\n",
    "Object-based plotting offers better control of your plot, particularly if you are working with multiple objects. While in the above examples the axes were created for us in the background, we have to define them here manually. While this might seem more complicated at first it offers better flexibility. For instance, we can add more than one axis.\n",
    "\n",
    "For object-oriented Matplotlib plots, we start by creating a figure and axes. In their simplest form, a figure and axes can be created as follows:"
   ]
  },
  {
   "cell_type": "code",
   "execution_count": null,
   "metadata": {},
   "outputs": [],
   "source": [
    "# create figure (= empty workspace)\n",
    "fig_1 = plt.figure(figsize=(10,4))\n",
    "\n",
    "# add axes to the figure\n",
    "ax_1 = fig_1.add_axes([0.5, 0.5, 0.51, 0.51])\n",
    "ax_1.plot(x, y1)\n",
    "\n",
    "# add elements to axis\n",
    "ax_1.set_xlabel('x')\n",
    "ax_1.set_ylabel('f(x)')\n",
    "ax_1.set_title('Diagram title')\n",
    "\n",
    "plt.show()"
   ]
  },
  {
   "cell_type": "markdown",
   "metadata": {},
   "source": [
    "As mentioned above, one of the benefits of object-based Matplotlib plots is greater flexibility, e.g. by adding multiple axes."
   ]
  },
  {
   "cell_type": "code",
   "execution_count": null,
   "metadata": {},
   "outputs": [],
   "source": [
    "# empty work space\n",
    "fig_2 = plt.figure()\n",
    "\n",
    "ax_2 = fig_2.add_axes([0.1, 0.1, 0.8, 0.8]) # main axes\n",
    "ax_3 = fig_2.add_axes([0.2, 0.5, 0.4, 0.3]) # added axes\n",
    "\n",
    "# larger diagramm with axes 2\n",
    "ax_2.plot(x, y2)\n",
    "ax_2.set_xlabel('x-axis')\n",
    "ax_2.set_ylabel('y-axis')\n",
    "ax_2.set_title('Large Diagram')\n",
    "\n",
    "# smaller diagramm with axes 3\n",
    "ax_3.plot(y2, x)\n",
    "ax_3.set_xlabel('x-axis')\n",
    "ax_3.set_ylabel('y-axis')\n",
    "ax_3.set_title('Small Diagram')\n",
    "\n",
    "plt.show()"
   ]
  },
  {
   "cell_type": "markdown",
   "metadata": {},
   "source": [
    "We can also use object-based plotting for subplots. Here is an example:"
   ]
  },
  {
   "cell_type": "code",
   "execution_count": null,
   "metadata": {
    "scrolled": true
   },
   "outputs": [],
   "source": [
    "# instead of plt.figure() we use plt.subplots(), creating an array of axes and an empty figure\n",
    "fig_3, axes = plt.subplots(nrows = 1, ncols = 2, figsize= (10,4))\n",
    "\n",
    "plt.show()"
   ]
  },
  {
   "cell_type": "code",
   "execution_count": null,
   "metadata": {},
   "outputs": [],
   "source": [
    "# array of axes\n",
    "print(axes)"
   ]
  },
  {
   "cell_type": "code",
   "execution_count": null,
   "metadata": {},
   "outputs": [],
   "source": [
    "# we can interate through this array to set the axes and plot onto them\n",
    "\n",
    "for ax in axes:\n",
    "    ax.plot(x, y3)\n",
    "    ax.set_xlabel('x')\n",
    "    ax.set_ylabel('y')\n",
    "    ax.set_title('title')\n",
    "    \n",
    "    \n",
    "# we could also do it without looping:\n",
    "#axes[0].plot(x, y3, 'g')\n",
    "#axes[0].set_xlabel('x')\n",
    "#axes[0].set_ylabel('y')\n",
    "#axes[0].set_title('titel')\n",
    "\n",
    "#axes[1].plot(x, y3, 'g')\n",
    "#axes[1].set_xlabel('x')\n",
    "#axes[1].set_ylabel('y')\n",
    "#axes[1].set_title('titel')\n",
    "\n",
    "# display plots\n",
    "fig_3.tight_layout() # avoid overlapping\n",
    "\n",
    "fig_3"
   ]
  },
  {
   "cell_type": "code",
   "execution_count": null,
   "metadata": {},
   "outputs": [],
   "source": [
    "# check out our axes object\n",
    "print(axes)"
   ]
  },
  {
   "cell_type": "markdown",
   "metadata": {},
   "source": [
    "__Object-based plotting using plt.subplots() is generally the most flexible and covenient way of producing high-quality plots, even with just one pane!__"
   ]
  },
  {
   "cell_type": "markdown",
   "metadata": {},
   "source": [
    "### Plot appearance"
   ]
  },
  {
   "cell_type": "markdown",
   "metadata": {},
   "source": [
    "#### Modifying size and shape\n",
    "\n",
    "Matplotlib allows us to set aspect ratio, DPI and diagram size. For this we use the `figsize` and `dpi` arguments.\n",
    "\n",
    "* `figsize` is a tupel of width and height in inches (default = (6.4, 4.8))\n",
    "* `dpi` means dots-per-inch (default = 100.0)\n",
    "\n",
    "For example:"
   ]
  },
  {
   "cell_type": "code",
   "execution_count": null,
   "metadata": {},
   "outputs": [],
   "source": [
    "# play around with the figsize and dpi arguments\n",
    "fig_4 = plt.figure(figsize=(10,4), dpi = 100)\n",
    "\n",
    "ax = fig_4.add_axes([0,0,1,1])\n",
    "\n",
    "ax.plot(x,y3,label=\"cubic\")\n",
    "ax.set_xlabel('x-axis')\n",
    "ax.set_ylabel('y-axis')\n",
    "ax.set_title('Large Diagram', fontsize=16, fontname=\"Arial\")\n",
    "\n",
    "plt.legend(loc=0, fontsize=12)\n",
    "\n",
    "plt.show()"
   ]
  },
  {
   "cell_type": "markdown",
   "metadata": {},
   "source": [
    "#### Defining diagram area\n",
    "\n",
    "We can set diagram areas and axes with `set_ylim` and `set_xlim`. Alternatively you can use `axis(\"tight\")` to automatically create a fitted axis:"
   ]
  },
  {
   "cell_type": "code",
   "execution_count": null,
   "metadata": {},
   "outputs": [],
   "source": [
    "fig_5, axes = plt.subplots(1, 3, figsize=(16, 9))\n",
    "\n",
    "axes[0].plot(x, y2, x, y3)\n",
    "axes[0].set_title(\"Standard area\")\n",
    "\n",
    "axes[1].plot(x, y2, x, y3)\n",
    "axes[1].axis('tight')\n",
    "axes[1].set_title(\"Fitted area\")\n",
    "\n",
    "axes[2].plot(x, y2, x, y3)\n",
    "axes[2].set_ylim([0, 50])\n",
    "axes[2].set_xlim([0, 3])\n",
    "axes[2].set_title(\"User defined area\")\n",
    "\n",
    "plt.tight_layout()\n",
    "plt.show()"
   ]
  },
  {
   "cell_type": "markdown",
   "metadata": {},
   "source": [
    "#### Modifying colour and style\n",
    "We can manually adjust the appearance of the graph. For instance, we may:\n",
    "* Set line colour\n",
    "* Set line style"
   ]
  },
  {
   "cell_type": "code",
   "execution_count": null,
   "metadata": {},
   "outputs": [],
   "source": [
    "# add labels to the plots (will show up in legend)\n",
    "# additionally add MatLab-style description \n",
    "plt.plot(x, y1,'b+-',label=\"x\")\n",
    "plt.plot(x, y2, 'g.--',label=\"x^2\",)\n",
    "\n",
    "# Add diagram and axes titles\n",
    "plt.xlabel('x-axis')\n",
    "plt.ylabel('y-axis')\n",
    "plt.title('Test diagram')\n",
    "\n",
    "# display legend\n",
    "plt.legend(loc=0)\n",
    "\n",
    "# Show plot\n",
    "plt.show()"
   ]
  },
  {
   "cell_type": "markdown",
   "metadata": {},
   "source": [
    "A whole range of different design options exist. In the following we will show you a few. Please refer to the Matplotlib repository for a comprehensive overview of design options and styles."
   ]
  },
  {
   "cell_type": "code",
   "execution_count": null,
   "metadata": {},
   "outputs": [],
   "source": [
    "diag, ax = plt.subplots(figsize=(12,6))\n",
    "\n",
    "# specify color and linewidth\n",
    "ax.plot(x, x+2, color=\"red\", linewidth=0.25)\n",
    "ax.plot(x, x+4, color=\"red\", linewidth=0.50)\n",
    "ax.plot(x, x+6, color=\"red\", linewidth=1.00)\n",
    "ax.plot(x, x+8, color=\"red\", linewidth=2.00)\n",
    "\n",
    "# user-defined lines: ‘-‘, ‘-.’, ‘:’\n",
    "ax.plot(x, x+10, color=\"green\", lw=3, linestyle='-')\n",
    "ax.plot(x, x+12, color=\"green\", lw=3, ls='-.')\n",
    "ax.plot(x, x+14, color=\"green\", lw=3, ls=':')\n",
    "\n",
    "# possible markers: '+', 'o', '*', 's', ',', '.', '1', '2', '3', '4', ...\n",
    "ax.plot(x, x+16, color=\"blue\", lw=3, ls='-', marker='+')\n",
    "ax.plot(x, x+18, color=\"blue\", lw=3, ls='--', marker='o')\n",
    "ax.plot(x, x+20, color=\"blue\", lw=3, ls='-', marker='s')\n",
    "ax.plot(x, x+22, color=\"blue\", lw=3, ls='--', marker='1')\n",
    "\n",
    "# adjust marker size and colour\n",
    "ax.plot(x, x+24, color=\"purple\", lw=1, ls='-', marker='o', markersize=2)\n",
    "ax.plot(x, x+26, color=\"purple\", lw=1, ls='-', marker='o', markersize=4)\n",
    "ax.plot(x, x+28, color=\"purple\", lw=1, ls='-', marker='o', markersize=8, markerfacecolor=\"red\")\n",
    "ax.plot(x, x+30, color=\"purple\", lw=1, ls='-', marker='+', markersize=8, \n",
    "        markerfacecolor=\"yellow\", markeredgewidth=3, markeredgecolor=\"green\")\n",
    "\n",
    "plt.show()"
   ]
  },
  {
   "cell_type": "markdown",
   "metadata": {},
   "source": [
    "#### Using styles to create appealing plots\n",
    "\n",
    "While matplotlib offers a broad range of opportunities to tweak the appearance of your plots, it might be helpful to use packages such as [SciencePlots](https://pypi.org/project/SciencePlots/) or [Aquarel](https://pypi.org/project/aquarel/) to speed up the process of generating presentation-ready figures. We provide two simple examples below, but make sure to check out the linked resources."
   ]
  },
  {
   "cell_type": "code",
   "execution_count": null,
   "metadata": {},
   "outputs": [],
   "source": [
    "# make sure to install the packages in your environment before importing\n",
    "import scienceplots\n",
    "from aquarel import load_theme"
   ]
  },
  {
   "cell_type": "code",
   "execution_count": null,
   "metadata": {},
   "outputs": [],
   "source": [
    "# example using scienceplots\n",
    "# note that scienceplots requires latex installed on your device; once you do, you can delete the 'no-latex' part\n",
    "with plt.style.context(['science','no-latex']):\n",
    "    plt.figure(figsize=(10,6))\n",
    "    plt.plot(x, y1, label=\"linear\")\n",
    "    plt.plot(x, y2, label=\"quadratic\")\n",
    "    plt.plot(x, y3, label=\"cubic\")\n",
    "    plt.xlabel('x', fontsize=10, fontname=\"Arial\")\n",
    "    plt.ylabel('f(x)', fontsize=10)\n",
    "    plt.title('Test diagram', fontsize=18)\n",
    "    plt.legend(loc=\"upper left\")\n",
    "    plt.show()"
   ]
  },
  {
   "cell_type": "code",
   "execution_count": null,
   "metadata": {},
   "outputs": [],
   "source": [
    "# example using aquarel\n",
    "with load_theme(\"arctic_light\"):\n",
    "    plt.figure(figsize=(10,6))\n",
    "    plt.plot(x, y1, label=\"linear\")\n",
    "    plt.plot(x, y2, label=\"quadratic\")\n",
    "    plt.plot(x, y3, label=\"cubic\")\n",
    "    plt.xlabel('x', fontsize=10, fontname=\"Arial\")\n",
    "    plt.ylabel('f(x)', fontsize=10)\n",
    "    plt.title('Test diagram', fontsize=18)\n",
    "    plt.legend(loc=\"upper left\")\n",
    "    plt.show()"
   ]
  },
  {
   "cell_type": "code",
   "execution_count": null,
   "metadata": {},
   "outputs": [],
   "source": [
    "# reset to default Matplotlib style\n",
    "plt.rcdefaults()"
   ]
  },
  {
   "cell_type": "markdown",
   "metadata": {},
   "source": [
    "You can save a figure as a png file using the method .savefig"
   ]
  },
  {
   "cell_type": "code",
   "execution_count": null,
   "metadata": {},
   "outputs": [],
   "source": [
    "diag.savefig(\"test.png\")"
   ]
  },
  {
   "cell_type": "markdown",
   "metadata": {},
   "source": [
    "### Other plot types\n",
    "\n",
    "In addition to normal `plot` methods there are further arguments to produce various types of diagrams. A hollistic overview of diagram types can be viewed on the official Matplotlib website at: http://matplotlib.org/gallery.html"
   ]
  },
  {
   "cell_type": "code",
   "execution_count": null,
   "metadata": {},
   "outputs": [],
   "source": [
    "# scatter plots:\n",
    "scatter = plt.figure()\n",
    "axscat = scatter.add_axes([0.1, 0.1, 0.8, 0.8])\n",
    "\n",
    "x = np.random.randn(100)\n",
    "y = 0.5*x**2+0.3*np.random.randn(100)\n",
    "\n",
    "axscat.scatter(x,y)\n",
    "axscat.axis(\"tight\")\n",
    "plt.show()"
   ]
  },
  {
   "cell_type": "code",
   "execution_count": null,
   "metadata": {},
   "outputs": [],
   "source": [
    "# histogram plots:\n",
    "from random import sample\n",
    "data = sample(range(1, 1000), 500)\n",
    "\n",
    "plt.hist(data, bins=20, edgecolor=\"k\")\n",
    "plt.show()"
   ]
  },
  {
   "cell_type": "code",
   "execution_count": null,
   "metadata": {},
   "outputs": [],
   "source": [
    "# parallel coordinates plot: visualising multidimensional data\n",
    "\n",
    "# let's import the already familiar iris-dataset for this one\n",
    "iris = pd.read_csv(\"iris.csv\")\n",
    "\n",
    "iris.head()"
   ]
  },
  {
   "cell_type": "code",
   "execution_count": null,
   "metadata": {},
   "outputs": [],
   "source": [
    "# note that Pandas has an integrated plotting module that is built on Matplotlib\n",
    "pd.plotting.parallel_coordinates(iris, class_column = 'Species', cols = [\"Sepal.Length\", \"Sepal.Width\", \"Petal.Length\", \"Petal.Width\"], color=('red', 'blue', 'green'))\n",
    "\n",
    "plt.show()"
   ]
  },
  {
   "cell_type": "markdown",
   "metadata": {},
   "source": [
    "### <font color='green'> Exercise - Visualizing `iris.csv` </font>"
   ]
  },
  {
   "cell_type": "markdown",
   "metadata": {},
   "source": [
    "### *Task 1:* \n",
    "\n",
    "Read in the `iris.csv` dataset. Handle missing data. Create a simple scatter plot on the \"Sepal.Width\" feature. Annotate your graph and size it appropriately.\n",
    "\n"
   ]
  },
  {
   "cell_type": "code",
   "execution_count": null,
   "metadata": {},
   "outputs": [],
   "source": [
    "# YOUR CODE HERE. YOU CAN CONTINUE WITH THE NEXT STEP WHEN YOU SEE THE SAME OUTPUT AS BELOW\n",
    "\n",
    "# import pandas\n",
    "\n",
    "# read data (it is in the same directory, so no need to specify the file path)\n",
    "\n",
    "# fill missing values using bfill or ffill\n"
   ]
  },
  {
   "cell_type": "code",
   "execution_count": 3,
   "metadata": {},
   "outputs": [
    {
     "name": "stdout",
     "output_type": "stream",
     "text": [
      "<class 'pandas.core.frame.DataFrame'>\n",
      "RangeIndex: 150 entries, 0 to 149\n",
      "Data columns (total 6 columns):\n",
      " #   Column        Non-Null Count  Dtype  \n",
      "---  ------        --------------  -----  \n",
      " 0   number        150 non-null    int64  \n",
      " 1   Sepal.Length  150 non-null    float64\n",
      " 2   Sepal.Width   150 non-null    float64\n",
      " 3   Petal.Length  150 non-null    float64\n",
      " 4   Petal.Width   150 non-null    float64\n",
      " 5   Species       150 non-null    object \n",
      "dtypes: float64(4), int64(1), object(1)\n",
      "memory usage: 7.2+ KB\n"
     ]
    }
   ],
   "source": [
    "# OUTPUT STEP 1 - DO NOT RUN THIS CELL, OTHERWISE THE OUTPUT IS LOST!"
   ]
  },
  {
   "cell_type": "code",
   "execution_count": null,
   "metadata": {},
   "outputs": [],
   "source": [
    "# YOUR CODE HERE. YOU CAN CONTINUE WITH THE NEXT TASK WHEN YOU SEE THE SAME OUTPUT AS BELOW\n",
    "\n",
    "# first, create a figure object\n",
    "\n",
    "# define plot\n",
    "\n",
    "# add axis and title labels\n",
    "\n",
    "# show plot\n"
   ]
  },
  {
   "cell_type": "code",
   "execution_count": 4,
   "metadata": {},
   "outputs": [
    {
     "data": {
      "image/png": "[encoded data removed]",
      "text/plain": [
       "<Figure size 1000x600 with 1 Axes>"
      ]
     },
     "metadata": {},
     "output_type": "display_data"
    }
   ],
   "source": [
    "# OUTPUT STEP 2 - DO NOT RUN THIS CELL, OTHERWISE THE OUTPUT IS LOST!"
   ]
  },
  {
   "cell_type": "markdown",
   "metadata": {},
   "source": [
    "### *Task 2:*\n",
    "\n",
    "You may have noticed some striking patterns emerging from this first plot. So let's dig deeper. Plot Petal.Width vs. Petal.Length on a scatter plot. Colour-code the different species. Hint: Run `plt.scatter()` commands for each species. Use methods you know to differentiate between the species."
   ]
  },
  {
   "cell_type": "code",
   "execution_count": null,
   "metadata": {},
   "outputs": [],
   "source": [
    "# remember the species in the dataset\n",
    "for species in list(iris[\"Species\"].unique()):\n",
    "    print(species)"
   ]
  },
  {
   "cell_type": "code",
   "execution_count": null,
   "metadata": {},
   "outputs": [],
   "source": [
    "# YOUR CODE HERE. YOU CAN CONTINUE WITH THE NEXT TASK WHEN YOU SEE THE SAME OUTPUT AS BELOW\n",
    "\n",
    "# define species list and corresponding colors\n",
    "\n",
    "# create fig object\n",
    "\n",
    "# iterate over species and plot\n",
    "\n",
    "# add labels, title and legend\n",
    "\n",
    "# show plot\n"
   ]
  },
  {
   "cell_type": "code",
   "execution_count": 5,
   "metadata": {},
   "outputs": [
    {
     "data": {
      "image/png": "[encoded data removed]",
      "text/plain": [
       "<Figure size 1000x600 with 1 Axes>"
      ]
     },
     "metadata": {},
     "output_type": "display_data"
    }
   ],
   "source": [
    "# DO NOT RUN THIS CELL, OTHERWISE THE OUTPUT IS LOST!"
   ]
  },
  {
   "cell_type": "markdown",
   "metadata": {},
   "source": [
    "### *Task 3:*\n",
    "\n",
    "Finally, let us plot a histogram - a common plot-type in data science - which shows the number of occurences of a given observation in the sample. Use Petal.Width for illustration purposes. \n",
    "\n",
    "Hint: Use `histtype='barstacked'` for this plot type. To plot the data, create a list of petal widths for each species which you append into one list and pass as `x` to `plt.hist()`."
   ]
  },
  {
   "cell_type": "code",
   "execution_count": null,
   "metadata": {},
   "outputs": [],
   "source": [
    "# YOUR CODE HERE. YOU CAN SEE THE DESIRED OUTPUT BELOW\n",
    "\n",
    "# create list of petal widths\n",
    "\n",
    "# create fig object\n",
    "\n",
    "# plot\n",
    "\n",
    "# add labels, title and legend\n",
    "\n",
    "# show plot\n"
   ]
  },
  {
   "cell_type": "code",
   "execution_count": 6,
   "metadata": {},
   "outputs": [
    {
     "data": {
      "image/png": "[encoded data removed]",
      "text/plain": [
       "<Figure size 1000x600 with 1 Axes>"
      ]
     },
     "metadata": {},
     "output_type": "display_data"
    }
   ],
   "source": [
    "# DO NOT RUN THIS CELL, OTHERWISE THE OUTPUT IS LOST!"
   ]
  },
  {
   "cell_type": "markdown",
   "metadata": {},
   "source": [
    "## `Seaborn`"
   ]
  },
  {
   "cell_type": "markdown",
   "metadata": {},
   "source": [
    "Seaborn is a library for making statistical graphics in Python. It is built on top of `Matplotlib` and closely integrated with `Pandas` data structures. It provides a high-level interface for drawing attractive and informative statistical graphics. As such, it is often easier to code than pure matplotlib graphs and often results in visually more appealing graphics. Plotting options are very comprehensive. An overview of plot types and styles can be found [here](https://seaborn.pydata.org/introduction.html). In this short introduction we will briefly introduce:\n",
    "- Categorical plots (barplots, countplots, boxplots, violin plots, etc. )\n",
    "- Grid plots\n",
    "- Distibution plots"
   ]
  },
  {
   "cell_type": "markdown",
   "metadata": {},
   "source": [
    "### Categorical plots"
   ]
  },
  {
   "cell_type": "code",
   "execution_count": null,
   "metadata": {},
   "outputs": [],
   "source": [
    "import seaborn as sns"
   ]
  },
  {
   "cell_type": "code",
   "execution_count": null,
   "metadata": {},
   "outputs": [],
   "source": [
    "# we import a new dataset, which is built into seaborn\n",
    "tips = sns.load_dataset(\"tips\")\n",
    "tips.head()"
   ]
  },
  {
   "cell_type": "markdown",
   "metadata": {},
   "source": [
    "#### Barplots & Countplots"
   ]
  },
  {
   "cell_type": "code",
   "execution_count": null,
   "metadata": {},
   "outputs": [],
   "source": [
    "f, axes = plt.subplots(1, 2, sharey=True, figsize=(10, 4))\n",
    "\n",
    "#barplots\n",
    "sns.barplot(x=\"sex\",y=\"total_bill\",data=tips, ax=axes[0],palette=\"magma\")\n",
    "\n",
    "#countplots\n",
    "sns.countplot(x=\"sex\",data=tips, ax=axes[1],palette=\"OrRd\")\n",
    "\n",
    "plt.show()"
   ]
  },
  {
   "cell_type": "markdown",
   "metadata": {},
   "source": [
    "#### Box- and Whiskerplots\n",
    "\n",
    "Boxplots graphically depict groups of numerical data through their quartiles. Boxplots may also have lines extending vertically from the boxes (whiskers), indicating variability outside the upper and lower quartiles, hence the terms box-and-whisker plot and box-and-whisker diagram."
   ]
  },
  {
   "cell_type": "code",
   "execution_count": null,
   "metadata": {},
   "outputs": [],
   "source": [
    "sns.boxplot(x=\"day\",y=\"total_bill\",data=tips,palette=\"mako\")\n",
    "plt.show()"
   ]
  },
  {
   "cell_type": "markdown",
   "metadata": {},
   "source": [
    "The `hue` statement allows for categorical splitting of the data - a very useful technique."
   ]
  },
  {
   "cell_type": "code",
   "execution_count": null,
   "metadata": {},
   "outputs": [],
   "source": [
    "sns.boxplot(x=\"day\",y=\"total_bill\",data=tips,palette=\"rainbow\", hue=\"sex\")\n",
    "plt.show()"
   ]
  },
  {
   "cell_type": "markdown",
   "metadata": {},
   "source": [
    "#### Violine plots\n",
    "\n",
    "Violine plots are somewhat similar to boxplots. The center of the violine resembles a boxplot. Additionally, however, density curves showcase the distributions of data."
   ]
  },
  {
   "cell_type": "code",
   "execution_count": null,
   "metadata": {},
   "outputs": [],
   "source": [
    "sns.violinplot(x=\"day\", y=\"total_bill\", data=tips, palette=\"rainbow\")\n",
    "plt.show()"
   ]
  },
  {
   "cell_type": "code",
   "execution_count": null,
   "metadata": {},
   "outputs": [],
   "source": [
    "# again, the hue argument can be used for categorical splitting\n",
    "sns.violinplot(x=\"day\", y=\"total_bill\", data=tips, hue=\"sex\",palette=\"magma\")\n",
    "plt.show()"
   ]
  },
  {
   "cell_type": "code",
   "execution_count": null,
   "metadata": {},
   "outputs": [],
   "source": [
    "# setting \"split\" to True will draw half of a violin for each level\n",
    "sns.violinplot(x=\"day\", y=\"total_bill\", data=tips,hue='sex',\n",
    "               split=True,palette=\"rainbow\")\n",
    "plt.show()"
   ]
  },
  {
   "cell_type": "markdown",
   "metadata": {},
   "source": [
    "### Distribution plots"
   ]
  },
  {
   "cell_type": "markdown",
   "metadata": {},
   "source": [
    "#### Histograms"
   ]
  },
  {
   "cell_type": "code",
   "execution_count": null,
   "metadata": {},
   "outputs": [],
   "source": [
    "sns.histplot(tips[\"total_bill\"], bins=30, kde=True)\n",
    "plt.show()"
   ]
  },
  {
   "cell_type": "markdown",
   "metadata": {},
   "source": [
    "#### Jointplots (multiple distributions)\n",
    "\n",
    "Jointplots are excellent tools for plotting bivariate relationships."
   ]
  },
  {
   "cell_type": "code",
   "execution_count": null,
   "metadata": {},
   "outputs": [],
   "source": [
    "sns.jointplot(x=\"total_bill\",y=\"tip\",data=tips,\n",
    "              kind=\"reg\")\n",
    "plt.show()"
   ]
  },
  {
   "cell_type": "markdown",
   "metadata": {},
   "source": [
    "### <font color='green'> **Exercise**: Play around with the `kind=` parameter on a `seaborn.jointplot` and see for yourself:</font>"
   ]
  },
  {
   "cell_type": "code",
   "execution_count": null,
   "metadata": {},
   "outputs": [],
   "source": [
    "# YOUR CODE HERE\n"
   ]
  },
  {
   "cell_type": "markdown",
   "metadata": {},
   "source": [
    "### Grid plots\n",
    "\n",
    "Grids plots allow for the reperesentation of multiple relationships along rows and columns. This is a great tool for uncovering hidden relationships in your data."
   ]
  },
  {
   "cell_type": "markdown",
   "metadata": {},
   "source": [
    "#### Pairplots"
   ]
  },
  {
   "cell_type": "code",
   "execution_count": null,
   "metadata": {},
   "outputs": [],
   "source": [
    "# remember all the variables in our dataset\n",
    "tips.info()"
   ]
  },
  {
   "cell_type": "code",
   "execution_count": null,
   "metadata": {},
   "outputs": [],
   "source": [
    "sns.pairplot(tips, height=3)\n",
    "plt.show()"
   ]
  },
  {
   "cell_type": "code",
   "execution_count": null,
   "metadata": {},
   "outputs": [],
   "source": [
    "# again, using the hue-argument can provide powerful insights\n",
    "sns.pairplot(tips, palette=\"magma\", height=3, hue=\"time\")\n",
    "plt.show()"
   ]
  },
  {
   "cell_type": "markdown",
   "metadata": {},
   "source": [
    "### <font color='green'> **Exercise**: Repeat some of the above `seaborn` visualizations for the iris dataset for practice. Which new relationships do you uncover? </font>"
   ]
  },
  {
   "cell_type": "code",
   "execution_count": null,
   "metadata": {},
   "outputs": [],
   "source": [
    "# YOUR CODE HERE\n"
   ]
  },
  {
   "cell_type": "markdown",
   "metadata": {},
   "source": [
    "---"
   ]
  }
 ],
 "metadata": {
  "kernelspec": {
   "display_name": "Python 3 (ipykernel)",
   "language": "python",
   "name": "python3"
  },
  "language_info": {
   "codemirror_mode": {
    "name": "ipython",
    "version": 3
   },
   "file_extension": ".py",
   "mimetype": "text/x-python",
   "name": "python",
   "nbconvert_exporter": "python",
   "pygments_lexer": "ipython3",
   "version": "3.11.2"
  }
 },
 "nbformat": 4,
 "nbformat_minor": 4
}
