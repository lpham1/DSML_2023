{
 "cells": [
  {
   "attachments": {},
   "cell_type": "markdown",
   "metadata": {},
   "source": [
    "# `DSML Workshop 05` - Hands on Data Science with real-world geotagged data\n",
    "\n",
    "During this workshop we dive into an excerpt of Car2Go data from the city of Stuttgart (STR). We will work hands-on with the dataset, which you can find on ILIAS. At the end of this session you should:\n",
    "\n",
    "- Understand the dataset and be able to query, analyze and plot it\n",
    "- Do basic geographical plots in folium\n",
    "\n",
    "\n",
    "- Understand the business case behind Virtual Power Plants and how they interact with the ancillary services markets\n",
    "- Understand the prediction and operational challenges behind operating EV-based VPPs and discuss some of the possible approaches behind tackling these challenges."
   ]
  },
  {
   "attachments": {},
   "cell_type": "markdown",
   "metadata": {},
   "source": [
    "## `Data Preparation and Exploration`"
   ]
  },
  {
   "attachments": {},
   "cell_type": "markdown",
   "metadata": {},
   "source": [
    "### 1.1 Read in data and perform basic transformations\n",
    "\n",
    "To keep size manageable we have uploaded a 2-week data snippet of Car2Go movement data from the city of Stuttgart (STR). We use data from November, 2017. In the interest of time we have done a lot of the pre-processing for you. Simply execute the code below to read in the data in the desired format."
   ]
  },
  {
   "attachments": {},
   "cell_type": "markdown",
   "metadata": {},
   "source": [
    "You need an environment with `conda create -n dsml_geo_workshop python=3.8 pyrosm numpy=1.23 shapely=1.8.5 seaborn jupyter notebook`"
   ]
  },
  {
   "cell_type": "code",
   "execution_count": null,
   "metadata": {},
   "outputs": [],
   "source": [
    "# import all relevant libraries\n",
    "import pandas as pd\n",
    "import numpy as np\n",
    "import matplotlib.pyplot as plt\n",
    "from pandas.plotting import register_matplotlib_converters\n",
    "register_matplotlib_converters()\n",
    "import seaborn as sns\n",
    "sns.set()\n",
    "sns.set_style(\"white\")\n",
    "sns.set_palette(\"GnBu_d\")\n",
    "\n",
    "# also import these \"new\" libraries \n",
    "# Note: you may have to download an add them to your environment (using e.g. 'conda install -c conda-forge folium')\n",
    "import folium\n",
    "from folium import plugins\n",
    "from folium.plugins import HeatMap\n",
    "from datetime import datetime #for working with times objects\n",
    "from datetime import timedelta #for working with times objects\n",
    "import math\n",
    "import random"
   ]
  },
  {
   "cell_type": "code",
   "execution_count": null,
   "metadata": {},
   "outputs": [],
   "source": [
    "STR_Nov = pd.read_csv(\"Car2Go_STR_Nov.csv\", encoding = \"ISO-8859-1\") # read in data\n",
    "STR_Nov.sort_values([\"car ID\",\"timestamp\"], inplace=True) # sort values by car ID and timestamp\n",
    "STR_Nov.set_index(pd.DatetimeIndex(STR_Nov[\"timestamp\"]),inplace=True) # make timestamp index and transform to datetime\n",
    "STR_Nov.drop(\"timestamp\", axis=1, inplace=True) # drop datetime column"
   ]
  },
  {
   "cell_type": "code",
   "execution_count": null,
   "metadata": {},
   "outputs": [],
   "source": [
    "# check out the data\n",
    "STR_Nov.head(10)"
   ]
  },
  {
   "cell_type": "code",
   "execution_count": null,
   "metadata": {},
   "outputs": [],
   "source": [
    "# note the type of the index\n",
    "type(STR_Nov.index)"
   ]
  },
  {
   "cell_type": "code",
   "execution_count": null,
   "metadata": {},
   "outputs": [],
   "source": [
    "# familiarize yourself with the data\n",
    "print(STR_Nov.info())\n",
    "print(STR_Nov.describe())"
   ]
  },
  {
   "attachments": {},
   "cell_type": "markdown",
   "metadata": {},
   "source": [
    "### 1.2 Data prep and engineering: datetime\n",
    "\n",
    "The dataset contains temporal data. Therefore, we can generate interesting features from the datetime information."
   ]
  },
  {
   "cell_type": "code",
   "execution_count": null,
   "metadata": {},
   "outputs": [],
   "source": [
    "# Let's map time of day and day of week to our DF\n",
    "def get_date(ts):\n",
    "    return ts.date()\n",
    "\n",
    "def get_weekday(ts):\n",
    "    return ts.weekday()\n",
    "\n",
    "def get_hour(ts):\n",
    "    return ts.hour"
   ]
  },
  {
   "attachments": {},
   "cell_type": "markdown",
   "metadata": {},
   "source": [
    "For this we will be using `lambda` in combination with `.apply()` - a very powerful combination for row-wise operations which allows you to apply any self-defined function to an element in a df."
   ]
  },
  {
   "cell_type": "code",
   "execution_count": null,
   "metadata": {},
   "outputs": [],
   "source": [
    "STR_Nov.reset_index(inplace=True) # first, we reset the index so that timestamp becomes a column of our dataframe\n",
    "STR_Nov[\"Date\"] = STR_Nov[\"timestamp\"].apply(lambda x: get_date(x))\n",
    "STR_Nov[\"Weekday\"]=STR_Nov[\"timestamp\"].apply(lambda x: get_weekday(x))\n",
    "STR_Nov[\"Hour\"]=STR_Nov[\"timestamp\"].apply(lambda x: get_hour(x))\n",
    "\n",
    "STR_Nov.head()"
   ]
  },
  {
   "attachments": {},
   "cell_type": "markdown",
   "metadata": {},
   "source": [
    "Most of the time, there is a faster alternative. In this case, you can also use the .dt accessor for datetime columns:"
   ]
  },
  {
   "cell_type": "code",
   "execution_count": null,
   "metadata": {},
   "outputs": [],
   "source": [
    "STR_Nov['timestamp'].dt.date"
   ]
  },
  {
   "cell_type": "code",
   "execution_count": null,
   "metadata": {},
   "outputs": [],
   "source": [
    "STR_Nov['Date']"
   ]
  },
  {
   "attachments": {},
   "cell_type": "markdown",
   "metadata": {},
   "source": [
    "### 1.3 Data prep and engineering: merge further data\n",
    "\n",
    "You might have interesting information from other sources that you want to include in your analysis. First, let's pretend that Car2Go provides us with a second dataset that contains information on the type of cars in their fleet."
   ]
  },
  {
   "cell_type": "code",
   "execution_count": null,
   "metadata": {},
   "outputs": [],
   "source": [
    "# first, we generate our hypothetical car model data\n",
    "brands = [\"Fiat\", \"BMW\", \"Volkswagen\", \"Ford\", \"Volvo\", \"Tesla\", \"Porsche\"]\n",
    "seats = [2,3,4,5]\n",
    "color = [\"grey\", \"black\", \"blue\", \"red\", \"green\"]\n",
    "\n",
    "car_models = pd.DataFrame({\"car_id\": STR_Nov[\"car ID\"].unique()})\n",
    "car_models[\"brand\"] = np.random.choice(brands, len(car_models))\n",
    "car_models[\"seats\"] = np.random.choice(seats, len(car_models))\n",
    "car_models[\"color\"] = np.random.choice(color, len(car_models))\n",
    "\n",
    "car_models.head()"
   ]
  },
  {
   "cell_type": "code",
   "execution_count": null,
   "metadata": {},
   "outputs": [],
   "source": [
    "# next, we merge the car model data with our main dataframe\n",
    "STR_Nov_cars = STR_Nov.merge(car_models, how = \"left\", left_on = \"car ID\", right_on = \"car_id\")\n",
    "\n",
    "STR_Nov_cars.head()"
   ]
  },
  {
   "attachments": {},
   "cell_type": "markdown",
   "metadata": {},
   "source": [
    "Second, let's pretend that we have information on the urban traffic congestion in Stuttgart. Specifically, we have information on the average additional time spent during a 10km car trip in the inner city for every hour"
   ]
  },
  {
   "cell_type": "code",
   "execution_count": null,
   "metadata": {},
   "outputs": [],
   "source": [
    "# first, we generate our hypothetical congestion data\n",
    "congestion = pd.DataFrame({'timestamp': pd.date_range('2017-11-01', '2017-11-15', periods=85, inclusive='left')})\n",
    "congestion[\"congestion\"] = np.random.randint(0,20, len(congestion))"
   ]
  },
  {
   "cell_type": "code",
   "execution_count": null,
   "metadata": {},
   "outputs": [],
   "source": [
    "congestion.head()"
   ]
  },
  {
   "cell_type": "code",
   "execution_count": null,
   "metadata": {},
   "outputs": [],
   "source": [
    "# next, we merge the congestion data with our main dataframe\n",
    "# note that in contrast to the car model data, we do not have any column that exactly matches in both dataframes\n",
    "# for merges on datetime, pd.merge_asof comes to the rescue\n",
    "\n",
    "# for this to work, both dataframes must be sorted by datetime\n",
    "STR_Nov.sort_values(\"timestamp\", inplace=True)\n",
    "\n",
    "STR_Nov_congestion = pd.merge_asof(STR_Nov, congestion, on = \"timestamp\", direction = \"nearest\")"
   ]
  },
  {
   "cell_type": "code",
   "execution_count": null,
   "metadata": {},
   "outputs": [],
   "source": [
    "# let's return to our original sorting by car ID and timestamp and inspect the data\n",
    "STR_Nov_congestion.sort_values([\"car ID\",\"timestamp\"], inplace=True)\n",
    "\n",
    "STR_Nov_congestion.head(10)"
   ]
  },
  {
   "attachments": {},
   "cell_type": "markdown",
   "metadata": {},
   "source": [
    "### Task <br>\n",
    "\n",
    "- In the above merge operation, set the direction to \"nearest\", \"backward\" and \"forward\"\n",
    "- What changes? Which option makes most sense in the given context?"
   ]
  },
  {
   "cell_type": "markdown",
   "metadata": {},
   "source": [
    "### 1.4 Data prep and engineering: locations\n",
    "\n",
    "The dataset contains geospatial data. Therefore, we can generate interesting features from the location information. To do that, we first convert our dataframe to a gepandas dataframe that allows for geographical operations on so called geometry columns. "
   ]
  },
  {
   "cell_type": "code",
   "execution_count": null,
   "metadata": {},
   "outputs": [],
   "source": [
    "# import required packages\n",
    "import geopandas as gpd\n",
    "import pyrosm"
   ]
  },
  {
   "cell_type": "code",
   "execution_count": null,
   "metadata": {},
   "outputs": [
    {
     "name": "stdout",
     "output_type": "stream",
     "text": [
      "Downloaded Protobuf data 'Stuttgart.osm.pbf' (61.09 MB) to:\n",
      "'/Users/philipppeter/Repo/DSML_2023/02_Workshops/DSML_WS_05_Mobility Lab/Stuttgart.osm.pbf'\n"
     ]
    },
    {
     "name": "stderr",
     "output_type": "stream",
     "text": [
      "/opt/homebrew/Caskroom/miniconda/base/envs/dsml_geo_workshop/lib/python3.10/site-packages/pyrosm/pyrosm.py:576: ShapelyDeprecationWarning: The array interface is deprecated and will no longer work in Shapely 2.0. Convert the '.coords' to a numpy array instead.\n",
      "  gdf = get_poi_data(\n",
      "/opt/homebrew/Caskroom/miniconda/base/envs/dsml_geo_workshop/lib/python3.10/site-packages/geopandas/array.py:1406: UserWarning: CRS not set for some of the concatenation inputs. Setting output's CRS as WGS 84 (the single non-null crs provided).\n",
      "  warnings.warn(\n"
     ]
    }
   ],
   "source": [
    "# get location data\n",
    "path = pyrosm.get_data('Stuttgart', directory='./') # downloads/finds the OpenStreetMap locations data\n",
    "stuttgart_osm_data = pyrosm.OSM(path) # creates Python object\n",
    "shopping_pois = stuttgart_osm_data.get_pois(custom_filter={'shop': True}, extra_attributes=['brand']) # creates filtered geopandas dataframe"
   ]
  },
  {
   "cell_type": "code",
   "execution_count": null,
   "metadata": {},
   "outputs": [],
   "source": [
    "# Note: x and y replace long and lat here (long, lat) = (x, y)\n",
    "str_nov_geo = gpd.GeoDataFrame(STR_Nov, geometry=gpd.points_from_xy(STR_Nov['long'], STR_Nov['lat']))"
   ]
  },
  {
   "cell_type": "code",
   "execution_count": null,
   "metadata": {},
   "outputs": [
    {
     "data": {
      "text/html": [
       "<div>\n",
       "<style scoped>\n",
       "    .dataframe tbody tr th:only-of-type {\n",
       "        vertical-align: middle;\n",
       "    }\n",
       "\n",
       "    .dataframe tbody tr th {\n",
       "        vertical-align: top;\n",
       "    }\n",
       "\n",
       "    .dataframe thead th {\n",
       "        text-align: right;\n",
       "    }\n",
       "</style>\n",
       "<table border=\"1\" class=\"dataframe\">\n",
       "  <thead>\n",
       "    <tr style=\"text-align: right;\">\n",
       "      <th></th>\n",
       "      <th>timestamp</th>\n",
       "      <th>car ID</th>\n",
       "      <th>long</th>\n",
       "      <th>lat</th>\n",
       "      <th>address</th>\n",
       "      <th>tank/charge level</th>\n",
       "      <th>charging</th>\n",
       "      <th>Date</th>\n",
       "      <th>Weekday</th>\n",
       "      <th>Hour</th>\n",
       "      <th>geometry</th>\n",
       "    </tr>\n",
       "  </thead>\n",
       "  <tbody>\n",
       "    <tr>\n",
       "      <th>1355588</th>\n",
       "      <td>2017-11-01 00:00:01</td>\n",
       "      <td>WME4513901K820402</td>\n",
       "      <td>9.16004</td>\n",
       "      <td>48.78306</td>\n",
       "      <td>KornbergstraÃe 32, 70176 Stuttgart</td>\n",
       "      <td>81</td>\n",
       "      <td>0</td>\n",
       "      <td>2017-11-01</td>\n",
       "      <td>2</td>\n",
       "      <td>0</td>\n",
       "      <td>POINT (9.16004 48.78306)</td>\n",
       "    </tr>\n",
       "    <tr>\n",
       "      <th>767009</th>\n",
       "      <td>2017-11-01 00:00:01</td>\n",
       "      <td>WME4513901K682887</td>\n",
       "      <td>9.15871</td>\n",
       "      <td>48.81197</td>\n",
       "      <td>Wilhelm-Geiger-Platz 10, 70469 Stuttgart</td>\n",
       "      <td>95</td>\n",
       "      <td>1</td>\n",
       "      <td>2017-11-01</td>\n",
       "      <td>2</td>\n",
       "      <td>0</td>\n",
       "      <td>POINT (9.15871 48.81197)</td>\n",
       "    </tr>\n",
       "    <tr>\n",
       "      <th>504851</th>\n",
       "      <td>2017-11-01 00:00:01</td>\n",
       "      <td>WME4513901K664097</td>\n",
       "      <td>9.01996</td>\n",
       "      <td>48.70894</td>\n",
       "      <td>Hugo-Distler-StraÃe 6, 71065 Sindelfingen</td>\n",
       "      <td>84</td>\n",
       "      <td>0</td>\n",
       "      <td>2017-11-01</td>\n",
       "      <td>2</td>\n",
       "      <td>0</td>\n",
       "      <td>POINT (9.01996 48.70894)</td>\n",
       "    </tr>\n",
       "    <tr>\n",
       "      <th>540369</th>\n",
       "      <td>2017-11-01 00:00:01</td>\n",
       "      <td>WME4513901K666870</td>\n",
       "      <td>9.29360</td>\n",
       "      <td>48.75934</td>\n",
       "      <td>Sulzgrieser StraÃe 105, 73733 Esslingen</td>\n",
       "      <td>100</td>\n",
       "      <td>1</td>\n",
       "      <td>2017-11-01</td>\n",
       "      <td>2</td>\n",
       "      <td>0</td>\n",
       "      <td>POINT (9.29360 48.75934)</td>\n",
       "    </tr>\n",
       "    <tr>\n",
       "      <th>1084629</th>\n",
       "      <td>2017-11-01 00:00:01</td>\n",
       "      <td>WME4513901K728465</td>\n",
       "      <td>9.15659</td>\n",
       "      <td>48.84287</td>\n",
       "      <td>Marco-Polo-Weg 8, 70439 Stuttgart</td>\n",
       "      <td>100</td>\n",
       "      <td>0</td>\n",
       "      <td>2017-11-01</td>\n",
       "      <td>2</td>\n",
       "      <td>0</td>\n",
       "      <td>POINT (9.15659 48.84287)</td>\n",
       "    </tr>\n",
       "    <tr>\n",
       "      <th>...</th>\n",
       "      <td>...</td>\n",
       "      <td>...</td>\n",
       "      <td>...</td>\n",
       "      <td>...</td>\n",
       "      <td>...</td>\n",
       "      <td>...</td>\n",
       "      <td>...</td>\n",
       "      <td>...</td>\n",
       "      <td>...</td>\n",
       "      <td>...</td>\n",
       "      <td>...</td>\n",
       "    </tr>\n",
       "    <tr>\n",
       "      <th>1257593</th>\n",
       "      <td>2017-11-14 23:55:01</td>\n",
       "      <td>WME4513901K820005</td>\n",
       "      <td>9.21431</td>\n",
       "      <td>48.81990</td>\n",
       "      <td>Zuckerfabrik 19, 70376 Stuttgart</td>\n",
       "      <td>32</td>\n",
       "      <td>0</td>\n",
       "      <td>2017-11-14</td>\n",
       "      <td>1</td>\n",
       "      <td>23</td>\n",
       "      <td>POINT (9.21431 48.81990)</td>\n",
       "    </tr>\n",
       "    <tr>\n",
       "      <th>69338</th>\n",
       "      <td>2017-11-14 23:55:01</td>\n",
       "      <td>WDD2428901J014936</td>\n",
       "      <td>9.13980</td>\n",
       "      <td>48.73239</td>\n",
       "      <td>Winterlinger Weg 8, 70567 Stuttgart</td>\n",
       "      <td>83</td>\n",
       "      <td>0</td>\n",
       "      <td>2017-11-14</td>\n",
       "      <td>1</td>\n",
       "      <td>23</td>\n",
       "      <td>POINT (9.13980 48.73239)</td>\n",
       "    </tr>\n",
       "    <tr>\n",
       "      <th>1018211</th>\n",
       "      <td>2017-11-14 23:55:01</td>\n",
       "      <td>WME4513901K728363</td>\n",
       "      <td>9.17466</td>\n",
       "      <td>48.75922</td>\n",
       "      <td>RebmannstraÃe 27, 70180 Stuttgart</td>\n",
       "      <td>61</td>\n",
       "      <td>0</td>\n",
       "      <td>2017-11-14</td>\n",
       "      <td>1</td>\n",
       "      <td>23</td>\n",
       "      <td>POINT (9.17466 48.75922)</td>\n",
       "    </tr>\n",
       "    <tr>\n",
       "      <th>760835</th>\n",
       "      <td>2017-11-14 23:55:01</td>\n",
       "      <td>WME4513901K673020</td>\n",
       "      <td>9.17040</td>\n",
       "      <td>48.74374</td>\n",
       "      <td>Entringer Str. 30, 70597 Stuttgart</td>\n",
       "      <td>45</td>\n",
       "      <td>0</td>\n",
       "      <td>2017-11-14</td>\n",
       "      <td>1</td>\n",
       "      <td>23</td>\n",
       "      <td>POINT (9.17040 48.74374)</td>\n",
       "    </tr>\n",
       "    <tr>\n",
       "      <th>310241</th>\n",
       "      <td>2017-11-14 23:55:01</td>\n",
       "      <td>WME4513901K658185</td>\n",
       "      <td>9.19344</td>\n",
       "      <td>48.83520</td>\n",
       "      <td>BÃ¶ckinger Str. 5, 70437 Stuttgart</td>\n",
       "      <td>92</td>\n",
       "      <td>0</td>\n",
       "      <td>2017-11-14</td>\n",
       "      <td>1</td>\n",
       "      <td>23</td>\n",
       "      <td>POINT (9.19344 48.83520)</td>\n",
       "    </tr>\n",
       "  </tbody>\n",
       "</table>\n",
       "<p>1393195 rows × 11 columns</p>\n",
       "</div>"
      ],
      "text/plain": [
       "                  timestamp             car ID     long       lat   \n",
       "1355588 2017-11-01 00:00:01  WME4513901K820402  9.16004  48.78306  \\\n",
       "767009  2017-11-01 00:00:01  WME4513901K682887  9.15871  48.81197   \n",
       "504851  2017-11-01 00:00:01  WME4513901K664097  9.01996  48.70894   \n",
       "540369  2017-11-01 00:00:01  WME4513901K666870  9.29360  48.75934   \n",
       "1084629 2017-11-01 00:00:01  WME4513901K728465  9.15659  48.84287   \n",
       "...                     ...                ...      ...       ...   \n",
       "1257593 2017-11-14 23:55:01  WME4513901K820005  9.21431  48.81990   \n",
       "69338   2017-11-14 23:55:01  WDD2428901J014936  9.13980  48.73239   \n",
       "1018211 2017-11-14 23:55:01  WME4513901K728363  9.17466  48.75922   \n",
       "760835  2017-11-14 23:55:01  WME4513901K673020  9.17040  48.74374   \n",
       "310241  2017-11-14 23:55:01  WME4513901K658185  9.19344  48.83520   \n",
       "\n",
       "                                            address  tank/charge level   \n",
       "1355588         KornbergstraÃe 32, 70176 Stuttgart                 81  \\\n",
       "767009     Wilhelm-Geiger-Platz 10, 70469 Stuttgart                 95   \n",
       "504851   Hugo-Distler-StraÃe 6, 71065 Sindelfingen                 84   \n",
       "540369     Sulzgrieser StraÃe 105, 73733 Esslingen                100   \n",
       "1084629           Marco-Polo-Weg 8, 70439 Stuttgart                100   \n",
       "...                                             ...                ...   \n",
       "1257593            Zuckerfabrik 19, 70376 Stuttgart                 32   \n",
       "69338           Winterlinger Weg 8, 70567 Stuttgart                 83   \n",
       "1018211          RebmannstraÃe 27, 70180 Stuttgart                 61   \n",
       "760835           Entringer Str. 30, 70597 Stuttgart                 45   \n",
       "310241           BÃ¶ckinger Str. 5, 70437 Stuttgart                 92   \n",
       "\n",
       "         charging        Date  Weekday  Hour                  geometry  \n",
       "1355588         0  2017-11-01        2     0  POINT (9.16004 48.78306)  \n",
       "767009          1  2017-11-01        2     0  POINT (9.15871 48.81197)  \n",
       "504851          0  2017-11-01        2     0  POINT (9.01996 48.70894)  \n",
       "540369          1  2017-11-01        2     0  POINT (9.29360 48.75934)  \n",
       "1084629         0  2017-11-01        2     0  POINT (9.15659 48.84287)  \n",
       "...           ...         ...      ...   ...                       ...  \n",
       "1257593         0  2017-11-14        1    23  POINT (9.21431 48.81990)  \n",
       "69338           0  2017-11-14        1    23  POINT (9.13980 48.73239)  \n",
       "1018211         0  2017-11-14        1    23  POINT (9.17466 48.75922)  \n",
       "760835          0  2017-11-14        1    23  POINT (9.17040 48.74374)  \n",
       "310241          0  2017-11-14        1    23  POINT (9.19344 48.83520)  \n",
       "\n",
       "[1393195 rows x 11 columns]"
      ]
     },
     "metadata": {},
     "output_type": "display_data"
    }
   ],
   "source": [
    "str_nov_geo"
   ]
  },
  {
   "cell_type": "markdown",
   "metadata": {},
   "source": [
    "Notice the difference between the dataframe before and after: there is a new column called geometry. This is a column that enables the geopandas operations on this dataframe."
   ]
  },
  {
   "cell_type": "code",
   "execution_count": null,
   "metadata": {},
   "outputs": [
    {
     "data": {
      "text/plain": [
       "<Axes: >"
      ]
     },
     "metadata": {},
     "output_type": "display_data"
    },
    {
     "data": {
      "image/png": "[encoded data removed]",
      "text/plain": [
       "<Figure size 640x480 with 1 Axes>"
      ]
     },
     "metadata": {},
     "output_type": "display_data"
    }
   ],
   "source": [
    "str_nov_geo.plot()"
   ]
  },
  {
   "cell_type": "markdown",
   "metadata": {},
   "source": [
    "Here you can see a nice feature - plotting the geometries on a map. It is hard to see anything, so later we are going to add a layer with a map."
   ]
  },
  {
   "cell_type": "markdown",
   "metadata": {},
   "source": [
    "Up for the next step. In the shopping POIs we fetched from Open Street Map, you can see a collection of shops with a LOT of attributes. Don't be scared, there are some that are useful to us. A later column is called 'shop' and it contains different shop types"
   ]
  },
  {
   "cell_type": "code",
   "execution_count": null,
   "metadata": {},
   "outputs": [
    {
     "data": {
      "text/html": [
       "<div>\n",
       "<style scoped>\n",
       "    .dataframe tbody tr th:only-of-type {\n",
       "        vertical-align: middle;\n",
       "    }\n",
       "\n",
       "    .dataframe tbody tr th {\n",
       "        vertical-align: top;\n",
       "    }\n",
       "\n",
       "    .dataframe thead th {\n",
       "        text-align: right;\n",
       "    }\n",
       "</style>\n",
       "<table border=\"1\" class=\"dataframe\">\n",
       "  <thead>\n",
       "    <tr style=\"text-align: right;\">\n",
       "      <th></th>\n",
       "      <th>tags</th>\n",
       "      <th>timestamp</th>\n",
       "      <th>lat</th>\n",
       "      <th>changeset</th>\n",
       "      <th>id</th>\n",
       "      <th>lon</th>\n",
       "      <th>version</th>\n",
       "      <th>addr:city</th>\n",
       "      <th>addr:country</th>\n",
       "      <th>addr:full</th>\n",
       "      <th>...</th>\n",
       "      <th>shop</th>\n",
       "      <th>tobacco</th>\n",
       "      <th>trade</th>\n",
       "      <th>watches</th>\n",
       "      <th>wholesale</th>\n",
       "      <th>brand</th>\n",
       "      <th>geometry</th>\n",
       "      <th>osm_type</th>\n",
       "      <th>agrarian</th>\n",
       "      <th>kiosk</th>\n",
       "    </tr>\n",
       "  </thead>\n",
       "  <tbody>\n",
       "    <tr>\n",
       "      <th>0</th>\n",
       "      <td>{\"brand:wikidata\":\"Q16968817\",\"brand:wikipedia...</td>\n",
       "      <td>0</td>\n",
       "      <td>48.530796</td>\n",
       "      <td>0.0</td>\n",
       "      <td>31605827</td>\n",
       "      <td>9.079883</td>\n",
       "      <td>0</td>\n",
       "      <td>Tübingen</td>\n",
       "      <td>DE</td>\n",
       "      <td>None</td>\n",
       "      <td>...</td>\n",
       "      <td>supermarket</td>\n",
       "      <td>None</td>\n",
       "      <td>None</td>\n",
       "      <td>None</td>\n",
       "      <td>None</td>\n",
       "      <td>REWE</td>\n",
       "      <td>POINT (9.07988 48.53080)</td>\n",
       "      <td>node</td>\n",
       "      <td>NaN</td>\n",
       "      <td>NaN</td>\n",
       "    </tr>\n",
       "    <tr>\n",
       "      <th>1</th>\n",
       "      <td>{\"addr:suburb\":\"Lustnau\",\"contact:phone\":\"+49 ...</td>\n",
       "      <td>0</td>\n",
       "      <td>48.530788</td>\n",
       "      <td>0.0</td>\n",
       "      <td>31605828</td>\n",
       "      <td>9.079736</td>\n",
       "      <td>0</td>\n",
       "      <td>Tübingen</td>\n",
       "      <td>DE</td>\n",
       "      <td>None</td>\n",
       "      <td>...</td>\n",
       "      <td>bakery</td>\n",
       "      <td>None</td>\n",
       "      <td>None</td>\n",
       "      <td>None</td>\n",
       "      <td>None</td>\n",
       "      <td>None</td>\n",
       "      <td>POINT (9.07974 48.53079)</td>\n",
       "      <td>node</td>\n",
       "      <td>NaN</td>\n",
       "      <td>NaN</td>\n",
       "    </tr>\n",
       "    <tr>\n",
       "      <th>2</th>\n",
       "      <td>{\"fax\":\"+49 7071 84629\",\"source\":\"knowledge\",\"...</td>\n",
       "      <td>0</td>\n",
       "      <td>48.530869</td>\n",
       "      <td>0.0</td>\n",
       "      <td>31605830</td>\n",
       "      <td>9.079653</td>\n",
       "      <td>0</td>\n",
       "      <td>Tübingen</td>\n",
       "      <td>DE</td>\n",
       "      <td>None</td>\n",
       "      <td>...</td>\n",
       "      <td>butcher</td>\n",
       "      <td>None</td>\n",
       "      <td>None</td>\n",
       "      <td>None</td>\n",
       "      <td>None</td>\n",
       "      <td>None</td>\n",
       "      <td>POINT (9.07965 48.53087)</td>\n",
       "      <td>node</td>\n",
       "      <td>NaN</td>\n",
       "      <td>NaN</td>\n",
       "    </tr>\n",
       "    <tr>\n",
       "      <th>3</th>\n",
       "      <td>{\"amenity\":\"fuel\",\"compressed_air\":\"yes\",\"fuel...</td>\n",
       "      <td>0</td>\n",
       "      <td>48.719585</td>\n",
       "      <td>0.0</td>\n",
       "      <td>32589162</td>\n",
       "      <td>9.207897</td>\n",
       "      <td>0</td>\n",
       "      <td>Stuttgart</td>\n",
       "      <td>DE</td>\n",
       "      <td>None</td>\n",
       "      <td>...</td>\n",
       "      <td>kiosk</td>\n",
       "      <td>None</td>\n",
       "      <td>None</td>\n",
       "      <td>None</td>\n",
       "      <td>None</td>\n",
       "      <td>Agip</td>\n",
       "      <td>POINT (9.20790 48.71959)</td>\n",
       "      <td>node</td>\n",
       "      <td>NaN</td>\n",
       "      <td>NaN</td>\n",
       "    </tr>\n",
       "    <tr>\n",
       "      <th>4</th>\n",
       "      <td>{\"amenity\":\"fuel\",\"fuel:diesel\":\"yes\",\"fuel:oc...</td>\n",
       "      <td>0</td>\n",
       "      <td>48.514980</td>\n",
       "      <td>0.0</td>\n",
       "      <td>33657618</td>\n",
       "      <td>9.225251</td>\n",
       "      <td>0</td>\n",
       "      <td>None</td>\n",
       "      <td>None</td>\n",
       "      <td>None</td>\n",
       "      <td>...</td>\n",
       "      <td>kiosk</td>\n",
       "      <td>None</td>\n",
       "      <td>None</td>\n",
       "      <td>None</td>\n",
       "      <td>None</td>\n",
       "      <td>None</td>\n",
       "      <td>POINT (9.22525 48.51498)</td>\n",
       "      <td>node</td>\n",
       "      <td>NaN</td>\n",
       "      <td>NaN</td>\n",
       "    </tr>\n",
       "  </tbody>\n",
       "</table>\n",
       "<p>5 rows × 52 columns</p>\n",
       "</div>"
      ],
      "text/plain": [
       "                                                tags  timestamp        lat   \n",
       "0  {\"brand:wikidata\":\"Q16968817\",\"brand:wikipedia...          0  48.530796  \\\n",
       "1  {\"addr:suburb\":\"Lustnau\",\"contact:phone\":\"+49 ...          0  48.530788   \n",
       "2  {\"fax\":\"+49 7071 84629\",\"source\":\"knowledge\",\"...          0  48.530869   \n",
       "3  {\"amenity\":\"fuel\",\"compressed_air\":\"yes\",\"fuel...          0  48.719585   \n",
       "4  {\"amenity\":\"fuel\",\"fuel:diesel\":\"yes\",\"fuel:oc...          0  48.514980   \n",
       "\n",
       "   changeset        id       lon  version  addr:city addr:country addr:full   \n",
       "0        0.0  31605827  9.079883        0   Tübingen           DE      None  \\\n",
       "1        0.0  31605828  9.079736        0   Tübingen           DE      None   \n",
       "2        0.0  31605830  9.079653        0   Tübingen           DE      None   \n",
       "3        0.0  32589162  9.207897        0  Stuttgart           DE      None   \n",
       "4        0.0  33657618  9.225251        0       None         None      None   \n",
       "\n",
       "   ...         shop tobacco trade watches wholesale brand   \n",
       "0  ...  supermarket    None  None    None      None  REWE  \\\n",
       "1  ...       bakery    None  None    None      None  None   \n",
       "2  ...      butcher    None  None    None      None  None   \n",
       "3  ...        kiosk    None  None    None      None  Agip   \n",
       "4  ...        kiosk    None  None    None      None  None   \n",
       "\n",
       "                   geometry osm_type agrarian kiosk  \n",
       "0  POINT (9.07988 48.53080)     node      NaN   NaN  \n",
       "1  POINT (9.07974 48.53079)     node      NaN   NaN  \n",
       "2  POINT (9.07965 48.53087)     node      NaN   NaN  \n",
       "3  POINT (9.20790 48.71959)     node      NaN   NaN  \n",
       "4  POINT (9.22525 48.51498)     node      NaN   NaN  \n",
       "\n",
       "[5 rows x 52 columns]"
      ]
     },
     "metadata": {},
     "output_type": "display_data"
    }
   ],
   "source": [
    "shopping_pois.head()"
   ]
  },
  {
   "cell_type": "code",
   "execution_count": null,
   "metadata": {},
   "outputs": [],
   "source": [
    "# We now only want Lidl for later analysis\n",
    "shopping_pois = shopping_pois[shopping_pois['brand'] == 'Lidl']\n",
    "# Lets also drop NA columns, as they are not useful for us. The thresh parameter can be used to control how many entries have to be there to keep the column\n",
    "shopping_pois.dropna(axis='columns', thresh=25, inplace=True)\n",
    "shopping_pois = shopping_pois[shopping_pois['addr:city'] == 'Stuttgart']"
   ]
  },
  {
   "cell_type": "markdown",
   "metadata": {},
   "source": [
    "Now we have two geodataframes, both with geographical information. However, the coordinates might be in differing formats. Coordinate reference systems (short CRS) are used to tell you: we have defined the coordinates to follow this particular model. We are using one called WGS84, that can be found using a code from a database. That database is called EPSG. In it, WGS84 has the code 4326."
   ]
  },
  {
   "cell_type": "code",
   "execution_count": null,
   "metadata": {},
   "outputs": [],
   "source": [
    "str_nov_geo.crs"
   ]
  },
  {
   "cell_type": "code",
   "execution_count": null,
   "metadata": {},
   "outputs": [
    {
     "data": {
      "text/plain": [
       "<Geographic 2D CRS: EPSG:4326>\n",
       "Name: WGS 84\n",
       "Axis Info [ellipsoidal]:\n",
       "- Lat[north]: Geodetic latitude (degree)\n",
       "- Lon[east]: Geodetic longitude (degree)\n",
       "Area of Use:\n",
       "- name: World.\n",
       "- bounds: (-180.0, -90.0, 180.0, 90.0)\n",
       "Datum: World Geodetic System 1984 ensemble\n",
       "- Ellipsoid: WGS 84\n",
       "- Prime Meridian: Greenwich"
      ]
     },
     "metadata": {},
     "output_type": "display_data"
    }
   ],
   "source": [
    "shopping_pois.crs"
   ]
  },
  {
   "cell_type": "code",
   "execution_count": null,
   "metadata": {},
   "outputs": [],
   "source": [
    "# To make the two geodataframes speak to each other, we need to set the crs in the first one to the same CRS as the second\n",
    "str_nov_geo = str_nov_geo.set_crs(epsg=4326)"
   ]
  },
  {
   "cell_type": "code",
   "execution_count": null,
   "metadata": {},
   "outputs": [
    {
     "data": {
      "text/plain": [
       "tags                {\"brand:wikidata\":\"Q151954\",\"brand:wikipedia\":...\n",
       "timestamp                                                           0\n",
       "lat                                                         48.811302\n",
       "changeset                                                         0.0\n",
       "id                                                           59656294\n",
       "lon                                                          9.165339\n",
       "version                                                             0\n",
       "addr:city                                                   Stuttgart\n",
       "addr:country                                                       DE\n",
       "addr:housenumber                                                   32\n",
       "addr:postcode                                                   70469\n",
       "addr:street                                        Stuttgarter Straße\n",
       "name                                                             Lidl\n",
       "opening_hours               Mo-Fr 08:00-21:00; Sa 08:00-21:00; PH off\n",
       "operator                                 Lidl Vertriebs-GmbH & Co. KG\n",
       "shop                                                      supermarket\n",
       "brand                                                            Lidl\n",
       "geometry                 POINT (9.165339469909668 48.811302185058594)\n",
       "osm_type                                                         node\n",
       "Name: 21, dtype: object"
      ]
     },
     "metadata": {},
     "output_type": "display_data"
    }
   ],
   "source": [
    "shopping_pois.iloc[0]"
   ]
  },
  {
   "cell_type": "code",
   "execution_count": null,
   "metadata": {},
   "outputs": [
    {
     "name": "stderr",
     "output_type": "stream",
     "text": [
      "/var/folders/g1/hrpxkq195m90bvz4qpv38w380000gn/T/ipykernel_14794/3430627821.py:1: UserWarning: Geometry is in a geographic CRS. Results from 'distance' are likely incorrect. Use 'GeoSeries.to_crs()' to re-project geometries to a projected CRS before this operation.\n",
      "\n",
      "  str_nov_geo.distance(shopping_pois.iloc[0].geometry)\n"
     ]
    },
    {
     "data": {
      "text/plain": [
       "1355588    0.028735\n",
       "767009     0.006663\n",
       "504851     0.177801\n",
       "540369     0.138387\n",
       "1084629    0.032758\n",
       "             ...   \n",
       "1257593    0.049720\n",
       "69338      0.082942\n",
       "1018211    0.052910\n",
       "760835     0.067751\n",
       "310241     0.036888\n",
       "Length: 1393195, dtype: float64"
      ]
     },
     "metadata": {},
     "output_type": "display_data"
    }
   ],
   "source": [
    "str_nov_geo.distance(shopping_pois.iloc[0].geometry)"
   ]
  },
  {
   "cell_type": "markdown",
   "metadata": {},
   "source": [
    "Distance calculation is actually quite simple for a single point, as you can see above. However the CRS strike again...the warning above tells you that the distance results are likely to be complete rubbish. That is because the distance is calculated between degrees and not points in meters. To get good results, we need to convert the coordinates to a projected CRS, which is given in meters."
   ]
  },
  {
   "cell_type": "markdown",
   "metadata": {},
   "source": [
    "A nice website for looking up CRS is epsg.io. There we search for Europe UTM. UTM is a projection that is split into 'slices'. Each slice is valid only for a part of the earth, which depends on the location you want to model. The code for epsg we found there is 25837. That you can simply enter into the conversion as you see below."
   ]
  },
  {
   "cell_type": "code",
   "execution_count": null,
   "metadata": {},
   "outputs": [
    {
     "data": {
      "text/html": [
       "<div>\n",
       "<style scoped>\n",
       "    .dataframe tbody tr th:only-of-type {\n",
       "        vertical-align: middle;\n",
       "    }\n",
       "\n",
       "    .dataframe tbody tr th {\n",
       "        vertical-align: top;\n",
       "    }\n",
       "\n",
       "    .dataframe thead th {\n",
       "        text-align: right;\n",
       "    }\n",
       "</style>\n",
       "<table border=\"1\" class=\"dataframe\">\n",
       "  <thead>\n",
       "    <tr style=\"text-align: right;\">\n",
       "      <th></th>\n",
       "      <th>timestamp</th>\n",
       "      <th>car ID</th>\n",
       "      <th>long</th>\n",
       "      <th>lat</th>\n",
       "      <th>address</th>\n",
       "      <th>tank/charge level</th>\n",
       "      <th>charging</th>\n",
       "      <th>Date</th>\n",
       "      <th>Weekday</th>\n",
       "      <th>Hour</th>\n",
       "      <th>geometry</th>\n",
       "    </tr>\n",
       "  </thead>\n",
       "  <tbody>\n",
       "    <tr>\n",
       "      <th>1355588</th>\n",
       "      <td>2017-11-01 00:00:01</td>\n",
       "      <td>WME4513901K820402</td>\n",
       "      <td>9.16004</td>\n",
       "      <td>48.78306</td>\n",
       "      <td>KornbergstraÃe 32, 70176 Stuttgart</td>\n",
       "      <td>81</td>\n",
       "      <td>0</td>\n",
       "      <td>2017-11-01</td>\n",
       "      <td>2</td>\n",
       "      <td>0</td>\n",
       "      <td>POINT (-1674638.247 5848117.906)</td>\n",
       "    </tr>\n",
       "    <tr>\n",
       "      <th>767009</th>\n",
       "      <td>2017-11-01 00:00:01</td>\n",
       "      <td>WME4513901K682887</td>\n",
       "      <td>9.15871</td>\n",
       "      <td>48.81197</td>\n",
       "      <td>Wilhelm-Geiger-Platz 10, 70469 Stuttgart</td>\n",
       "      <td>95</td>\n",
       "      <td>1</td>\n",
       "      <td>2017-11-01</td>\n",
       "      <td>2</td>\n",
       "      <td>0</td>\n",
       "      <td>POINT (-1673384.661 5851282.209)</td>\n",
       "    </tr>\n",
       "    <tr>\n",
       "      <th>504851</th>\n",
       "      <td>2017-11-01 00:00:01</td>\n",
       "      <td>WME4513901K664097</td>\n",
       "      <td>9.01996</td>\n",
       "      <td>48.70894</td>\n",
       "      <td>Hugo-Distler-StraÃe 6, 71065 Sindelfingen</td>\n",
       "      <td>84</td>\n",
       "      <td>0</td>\n",
       "      <td>2017-11-01</td>\n",
       "      <td>2</td>\n",
       "      <td>0</td>\n",
       "      <td>POINT (-1688111.645 5844439.999)</td>\n",
       "    </tr>\n",
       "    <tr>\n",
       "      <th>540369</th>\n",
       "      <td>2017-11-01 00:00:01</td>\n",
       "      <td>WME4513901K666870</td>\n",
       "      <td>9.29360</td>\n",
       "      <td>48.75934</td>\n",
       "      <td>Sulzgrieser StraÃe 105, 73733 Esslingen</td>\n",
       "      <td>100</td>\n",
       "      <td>1</td>\n",
       "      <td>2017-11-01</td>\n",
       "      <td>2</td>\n",
       "      <td>0</td>\n",
       "      <td>POINT (-1666200.956 5841448.190)</td>\n",
       "    </tr>\n",
       "    <tr>\n",
       "      <th>1084629</th>\n",
       "      <td>2017-11-01 00:00:01</td>\n",
       "      <td>WME4513901K728465</td>\n",
       "      <td>9.15659</td>\n",
       "      <td>48.84287</td>\n",
       "      <td>Marco-Polo-Weg 8, 70439 Stuttgart</td>\n",
       "      <td>100</td>\n",
       "      <td>0</td>\n",
       "      <td>2017-11-01</td>\n",
       "      <td>2</td>\n",
       "      <td>0</td>\n",
       "      <td>POINT (-1672093.973 5854685.356)</td>\n",
       "    </tr>\n",
       "  </tbody>\n",
       "</table>\n",
       "</div>"
      ],
      "text/plain": [
       "                  timestamp             car ID     long       lat   \n",
       "1355588 2017-11-01 00:00:01  WME4513901K820402  9.16004  48.78306  \\\n",
       "767009  2017-11-01 00:00:01  WME4513901K682887  9.15871  48.81197   \n",
       "504851  2017-11-01 00:00:01  WME4513901K664097  9.01996  48.70894   \n",
       "540369  2017-11-01 00:00:01  WME4513901K666870  9.29360  48.75934   \n",
       "1084629 2017-11-01 00:00:01  WME4513901K728465  9.15659  48.84287   \n",
       "\n",
       "                                            address  tank/charge level   \n",
       "1355588         KornbergstraÃe 32, 70176 Stuttgart                 81  \\\n",
       "767009     Wilhelm-Geiger-Platz 10, 70469 Stuttgart                 95   \n",
       "504851   Hugo-Distler-StraÃe 6, 71065 Sindelfingen                 84   \n",
       "540369     Sulzgrieser StraÃe 105, 73733 Esslingen                100   \n",
       "1084629           Marco-Polo-Weg 8, 70439 Stuttgart                100   \n",
       "\n",
       "         charging        Date  Weekday  Hour                          geometry  \n",
       "1355588         0  2017-11-01        2     0  POINT (-1674638.247 5848117.906)  \n",
       "767009          1  2017-11-01        2     0  POINT (-1673384.661 5851282.209)  \n",
       "504851          0  2017-11-01        2     0  POINT (-1688111.645 5844439.999)  \n",
       "540369          1  2017-11-01        2     0  POINT (-1666200.956 5841448.190)  \n",
       "1084629         0  2017-11-01        2     0  POINT (-1672093.973 5854685.356)  "
      ]
     },
     "metadata": {},
     "output_type": "display_data"
    }
   ],
   "source": [
    "str_nov_geo = str_nov_geo.to_crs(epsg=25837)\n",
    "str_nov_geo.head()"
   ]
  },
  {
   "cell_type": "markdown",
   "metadata": {},
   "source": [
    "Now the geometries look strange, don't they? Actually, they are now more useful. The values you see there are the meters this point is away from (0,0). Now you can't really tell where on earth these locations are without knowing (0,0) is, but you can calculate the distance using the euclidean formula! Lets put this to use."
   ]
  },
  {
   "cell_type": "code",
   "execution_count": null,
   "metadata": {},
   "outputs": [],
   "source": [
    "shopping_pois = shopping_pois.to_crs(epsg=25837)\n",
    "str_nov_geo['distance to Lidl Stuttgarter Str.'] = str_nov_geo.distance(shopping_pois.iloc[0].geometry)"
   ]
  },
  {
   "cell_type": "code",
   "execution_count": null,
   "metadata": {},
   "outputs": [
    {
     "data": {
      "text/html": [
       "<div>\n",
       "<style scoped>\n",
       "    .dataframe tbody tr th:only-of-type {\n",
       "        vertical-align: middle;\n",
       "    }\n",
       "\n",
       "    .dataframe tbody tr th {\n",
       "        vertical-align: top;\n",
       "    }\n",
       "\n",
       "    .dataframe thead th {\n",
       "        text-align: right;\n",
       "    }\n",
       "</style>\n",
       "<table border=\"1\" class=\"dataframe\">\n",
       "  <thead>\n",
       "    <tr style=\"text-align: right;\">\n",
       "      <th></th>\n",
       "      <th>timestamp</th>\n",
       "      <th>car ID</th>\n",
       "      <th>long</th>\n",
       "      <th>lat</th>\n",
       "      <th>address</th>\n",
       "      <th>tank/charge level</th>\n",
       "      <th>charging</th>\n",
       "      <th>Date</th>\n",
       "      <th>Weekday</th>\n",
       "      <th>Hour</th>\n",
       "      <th>geometry</th>\n",
       "      <th>distance to Lidl Stuttgarter Str.</th>\n",
       "    </tr>\n",
       "  </thead>\n",
       "  <tbody>\n",
       "    <tr>\n",
       "      <th>36432</th>\n",
       "      <td>2017-11-11 10:45:01</td>\n",
       "      <td>WDD2428901J014914</td>\n",
       "      <td>9.16492</td>\n",
       "      <td>48.81139</td>\n",
       "      <td>Stuttgarter Str. 36, 70469 Stuttgart</td>\n",
       "      <td>70</td>\n",
       "      <td>0</td>\n",
       "      <td>2017-11-11</td>\n",
       "      <td>5</td>\n",
       "      <td>10</td>\n",
       "      <td>POINT (-1672968.638 5851028.227)</td>\n",
       "      <td>34.198210</td>\n",
       "    </tr>\n",
       "    <tr>\n",
       "      <th>36433</th>\n",
       "      <td>2017-11-11 10:50:01</td>\n",
       "      <td>WDD2428901J014914</td>\n",
       "      <td>9.16492</td>\n",
       "      <td>48.81139</td>\n",
       "      <td>Stuttgarter Str. 36, 70469 Stuttgart</td>\n",
       "      <td>70</td>\n",
       "      <td>0</td>\n",
       "      <td>2017-11-11</td>\n",
       "      <td>5</td>\n",
       "      <td>10</td>\n",
       "      <td>POINT (-1672968.638 5851028.227)</td>\n",
       "      <td>34.198210</td>\n",
       "    </tr>\n",
       "    <tr>\n",
       "      <th>36434</th>\n",
       "      <td>2017-11-11 10:55:01</td>\n",
       "      <td>WDD2428901J014914</td>\n",
       "      <td>9.16492</td>\n",
       "      <td>48.81139</td>\n",
       "      <td>Stuttgarter Str. 36, 70469 Stuttgart</td>\n",
       "      <td>70</td>\n",
       "      <td>0</td>\n",
       "      <td>2017-11-11</td>\n",
       "      <td>5</td>\n",
       "      <td>10</td>\n",
       "      <td>POINT (-1672968.638 5851028.227)</td>\n",
       "      <td>34.198210</td>\n",
       "    </tr>\n",
       "    <tr>\n",
       "      <th>36435</th>\n",
       "      <td>2017-11-11 11:00:01</td>\n",
       "      <td>WDD2428901J014914</td>\n",
       "      <td>9.16492</td>\n",
       "      <td>48.81139</td>\n",
       "      <td>Stuttgarter Str. 36, 70469 Stuttgart</td>\n",
       "      <td>70</td>\n",
       "      <td>0</td>\n",
       "      <td>2017-11-11</td>\n",
       "      <td>5</td>\n",
       "      <td>11</td>\n",
       "      <td>POINT (-1672968.638 5851028.227)</td>\n",
       "      <td>34.198210</td>\n",
       "    </tr>\n",
       "    <tr>\n",
       "      <th>36436</th>\n",
       "      <td>2017-11-11 11:05:01</td>\n",
       "      <td>WDD2428901J014914</td>\n",
       "      <td>9.16492</td>\n",
       "      <td>48.81139</td>\n",
       "      <td>Stuttgarter Str. 36, 70469 Stuttgart</td>\n",
       "      <td>70</td>\n",
       "      <td>0</td>\n",
       "      <td>2017-11-11</td>\n",
       "      <td>5</td>\n",
       "      <td>11</td>\n",
       "      <td>POINT (-1672968.638 5851028.227)</td>\n",
       "      <td>34.198210</td>\n",
       "    </tr>\n",
       "    <tr>\n",
       "      <th>...</th>\n",
       "      <td>...</td>\n",
       "      <td>...</td>\n",
       "      <td>...</td>\n",
       "      <td>...</td>\n",
       "      <td>...</td>\n",
       "      <td>...</td>\n",
       "      <td>...</td>\n",
       "      <td>...</td>\n",
       "      <td>...</td>\n",
       "      <td>...</td>\n",
       "      <td>...</td>\n",
       "      <td>...</td>\n",
       "    </tr>\n",
       "    <tr>\n",
       "      <th>139452</th>\n",
       "      <td>2017-11-14 23:50:01</td>\n",
       "      <td>WME4513901K649351</td>\n",
       "      <td>8.94648</td>\n",
       "      <td>48.65150</td>\n",
       "      <td>IBM | Ein- und Ausfahrt nur Ã¼ber Haupteingang</td>\n",
       "      <td>87</td>\n",
       "      <td>1</td>\n",
       "      <td>2017-11-14</td>\n",
       "      <td>1</td>\n",
       "      <td>23</td>\n",
       "      <td>POINT (-1696062.694 5840515.928)</td>\n",
       "      <td>25388.325861</td>\n",
       "    </tr>\n",
       "    <tr>\n",
       "      <th>1132664</th>\n",
       "      <td>2017-11-14 23:50:01</td>\n",
       "      <td>WME4513901K728529</td>\n",
       "      <td>8.94648</td>\n",
       "      <td>48.65150</td>\n",
       "      <td>IBM | Ein- und Ausfahrt nur Ã¼ber Haupteingang</td>\n",
       "      <td>100</td>\n",
       "      <td>0</td>\n",
       "      <td>2017-11-14</td>\n",
       "      <td>1</td>\n",
       "      <td>23</td>\n",
       "      <td>POINT (-1696062.694 5840515.928)</td>\n",
       "      <td>25388.325861</td>\n",
       "    </tr>\n",
       "    <tr>\n",
       "      <th>1280532</th>\n",
       "      <td>2017-11-14 23:55:01</td>\n",
       "      <td>WME4513901K820086</td>\n",
       "      <td>8.94648</td>\n",
       "      <td>48.65150</td>\n",
       "      <td>IBM | Ein- und Ausfahrt nur Ã¼ber Haupteingang</td>\n",
       "      <td>100</td>\n",
       "      <td>0</td>\n",
       "      <td>2017-11-14</td>\n",
       "      <td>1</td>\n",
       "      <td>23</td>\n",
       "      <td>POINT (-1696062.694 5840515.928)</td>\n",
       "      <td>25388.325861</td>\n",
       "    </tr>\n",
       "    <tr>\n",
       "      <th>139453</th>\n",
       "      <td>2017-11-14 23:55:01</td>\n",
       "      <td>WME4513901K649351</td>\n",
       "      <td>8.94648</td>\n",
       "      <td>48.65150</td>\n",
       "      <td>IBM | Ein- und Ausfahrt nur Ã¼ber Haupteingang</td>\n",
       "      <td>88</td>\n",
       "      <td>1</td>\n",
       "      <td>2017-11-14</td>\n",
       "      <td>1</td>\n",
       "      <td>23</td>\n",
       "      <td>POINT (-1696062.694 5840515.928)</td>\n",
       "      <td>25388.325861</td>\n",
       "    </tr>\n",
       "    <tr>\n",
       "      <th>1132665</th>\n",
       "      <td>2017-11-14 23:55:01</td>\n",
       "      <td>WME4513901K728529</td>\n",
       "      <td>8.94648</td>\n",
       "      <td>48.65150</td>\n",
       "      <td>IBM | Ein- und Ausfahrt nur Ã¼ber Haupteingang</td>\n",
       "      <td>100</td>\n",
       "      <td>0</td>\n",
       "      <td>2017-11-14</td>\n",
       "      <td>1</td>\n",
       "      <td>23</td>\n",
       "      <td>POINT (-1696062.694 5840515.928)</td>\n",
       "      <td>25388.325861</td>\n",
       "    </tr>\n",
       "  </tbody>\n",
       "</table>\n",
       "<p>1393195 rows × 12 columns</p>\n",
       "</div>"
      ],
      "text/plain": [
       "                  timestamp             car ID     long       lat   \n",
       "36432   2017-11-11 10:45:01  WDD2428901J014914  9.16492  48.81139  \\\n",
       "36433   2017-11-11 10:50:01  WDD2428901J014914  9.16492  48.81139   \n",
       "36434   2017-11-11 10:55:01  WDD2428901J014914  9.16492  48.81139   \n",
       "36435   2017-11-11 11:00:01  WDD2428901J014914  9.16492  48.81139   \n",
       "36436   2017-11-11 11:05:01  WDD2428901J014914  9.16492  48.81139   \n",
       "...                     ...                ...      ...       ...   \n",
       "139452  2017-11-14 23:50:01  WME4513901K649351  8.94648  48.65150   \n",
       "1132664 2017-11-14 23:50:01  WME4513901K728529  8.94648  48.65150   \n",
       "1280532 2017-11-14 23:55:01  WME4513901K820086  8.94648  48.65150   \n",
       "139453  2017-11-14 23:55:01  WME4513901K649351  8.94648  48.65150   \n",
       "1132665 2017-11-14 23:55:01  WME4513901K728529  8.94648  48.65150   \n",
       "\n",
       "                                                address  tank/charge level   \n",
       "36432              Stuttgarter Str. 36, 70469 Stuttgart                 70  \\\n",
       "36433              Stuttgarter Str. 36, 70469 Stuttgart                 70   \n",
       "36434              Stuttgarter Str. 36, 70469 Stuttgart                 70   \n",
       "36435              Stuttgarter Str. 36, 70469 Stuttgart                 70   \n",
       "36436              Stuttgarter Str. 36, 70469 Stuttgart                 70   \n",
       "...                                                 ...                ...   \n",
       "139452   IBM | Ein- und Ausfahrt nur Ã¼ber Haupteingang                 87   \n",
       "1132664  IBM | Ein- und Ausfahrt nur Ã¼ber Haupteingang                100   \n",
       "1280532  IBM | Ein- und Ausfahrt nur Ã¼ber Haupteingang                100   \n",
       "139453   IBM | Ein- und Ausfahrt nur Ã¼ber Haupteingang                 88   \n",
       "1132665  IBM | Ein- und Ausfahrt nur Ã¼ber Haupteingang                100   \n",
       "\n",
       "         charging        Date  Weekday  Hour   \n",
       "36432           0  2017-11-11        5    10  \\\n",
       "36433           0  2017-11-11        5    10   \n",
       "36434           0  2017-11-11        5    10   \n",
       "36435           0  2017-11-11        5    11   \n",
       "36436           0  2017-11-11        5    11   \n",
       "...           ...         ...      ...   ...   \n",
       "139452          1  2017-11-14        1    23   \n",
       "1132664         0  2017-11-14        1    23   \n",
       "1280532         0  2017-11-14        1    23   \n",
       "139453          1  2017-11-14        1    23   \n",
       "1132665         0  2017-11-14        1    23   \n",
       "\n",
       "                                 geometry  distance to Lidl Stuttgarter Str.  \n",
       "36432    POINT (-1672968.638 5851028.227)                          34.198210  \n",
       "36433    POINT (-1672968.638 5851028.227)                          34.198210  \n",
       "36434    POINT (-1672968.638 5851028.227)                          34.198210  \n",
       "36435    POINT (-1672968.638 5851028.227)                          34.198210  \n",
       "36436    POINT (-1672968.638 5851028.227)                          34.198210  \n",
       "...                                   ...                                ...  \n",
       "139452   POINT (-1696062.694 5840515.928)                       25388.325861  \n",
       "1132664  POINT (-1696062.694 5840515.928)                       25388.325861  \n",
       "1280532  POINT (-1696062.694 5840515.928)                       25388.325861  \n",
       "139453   POINT (-1696062.694 5840515.928)                       25388.325861  \n",
       "1132665  POINT (-1696062.694 5840515.928)                       25388.325861  \n",
       "\n",
       "[1393195 rows x 12 columns]"
      ]
     },
     "metadata": {},
     "output_type": "display_data"
    }
   ],
   "source": [
    "str_nov_geo.sort_values(by=['distance to Lidl Stuttgarter Str.', 'timestamp'])"
   ]
  },
  {
   "cell_type": "markdown",
   "metadata": {},
   "source": [
    "Now we can see the distance to this Lidl for all cars, isn't that nice? For important locations in a city, like the central station, this can be very informative.\n",
    "\n",
    "For the shops, wouldn't it be a lot nicer to use more than just a single supermarket? Consider this idea: We create a circle around all supermarkets in Stuttgart, generate a geometry from this and finally simply check whether the location of a car is currently in one of these circles or not!"
   ]
  },
  {
   "cell_type": "code",
   "execution_count": null,
   "metadata": {},
   "outputs": [],
   "source": [
    "buffered_shops = shopping_pois.buffer(50) # create a circle around points\n",
    "all_shops = buffered_shops.unary_union # change format from series to single object"
   ]
  },
  {
   "cell_type": "code",
   "execution_count": null,
   "metadata": {},
   "outputs": [],
   "source": [
    "str_nov_geo['close_to_some_LIDL'] = str_nov_geo.within(all_shops)"
   ]
  },
  {
   "cell_type": "code",
   "execution_count": null,
   "metadata": {},
   "outputs": [
    {
     "data": {
      "text/html": [
       "<div>\n",
       "<style scoped>\n",
       "    .dataframe tbody tr th:only-of-type {\n",
       "        vertical-align: middle;\n",
       "    }\n",
       "\n",
       "    .dataframe tbody tr th {\n",
       "        vertical-align: top;\n",
       "    }\n",
       "\n",
       "    .dataframe thead th {\n",
       "        text-align: right;\n",
       "    }\n",
       "</style>\n",
       "<table border=\"1\" class=\"dataframe\">\n",
       "  <thead>\n",
       "    <tr style=\"text-align: right;\">\n",
       "      <th></th>\n",
       "      <th>timestamp</th>\n",
       "      <th>car ID</th>\n",
       "      <th>long</th>\n",
       "      <th>lat</th>\n",
       "      <th>address</th>\n",
       "      <th>tank/charge level</th>\n",
       "      <th>charging</th>\n",
       "      <th>Date</th>\n",
       "      <th>Weekday</th>\n",
       "      <th>Hour</th>\n",
       "      <th>geometry</th>\n",
       "      <th>distance to Lidl Stuttgarter Str.</th>\n",
       "      <th>close_to_some_LIDL</th>\n",
       "    </tr>\n",
       "  </thead>\n",
       "  <tbody>\n",
       "    <tr>\n",
       "      <th>1355588</th>\n",
       "      <td>2017-11-01 00:00:01</td>\n",
       "      <td>WME4513901K820402</td>\n",
       "      <td>9.16004</td>\n",
       "      <td>48.78306</td>\n",
       "      <td>KornbergstraÃe 32, 70176 Stuttgart</td>\n",
       "      <td>81</td>\n",
       "      <td>0</td>\n",
       "      <td>2017-11-01</td>\n",
       "      <td>2</td>\n",
       "      <td>0</td>\n",
       "      <td>POINT (-1674638.247 5848117.906)</td>\n",
       "      <td>3348.815438</td>\n",
       "      <td>False</td>\n",
       "    </tr>\n",
       "    <tr>\n",
       "      <th>767009</th>\n",
       "      <td>2017-11-01 00:00:01</td>\n",
       "      <td>WME4513901K682887</td>\n",
       "      <td>9.15871</td>\n",
       "      <td>48.81197</td>\n",
       "      <td>Wilhelm-Geiger-Platz 10, 70469 Stuttgart</td>\n",
       "      <td>95</td>\n",
       "      <td>1</td>\n",
       "      <td>2017-11-01</td>\n",
       "      <td>2</td>\n",
       "      <td>0</td>\n",
       "      <td>POINT (-1673384.661 5851282.209)</td>\n",
       "      <td>521.180318</td>\n",
       "      <td>False</td>\n",
       "    </tr>\n",
       "    <tr>\n",
       "      <th>504851</th>\n",
       "      <td>2017-11-01 00:00:01</td>\n",
       "      <td>WME4513901K664097</td>\n",
       "      <td>9.01996</td>\n",
       "      <td>48.70894</td>\n",
       "      <td>Hugo-Distler-StraÃe 6, 71065 Sindelfingen</td>\n",
       "      <td>84</td>\n",
       "      <td>0</td>\n",
       "      <td>2017-11-01</td>\n",
       "      <td>2</td>\n",
       "      <td>0</td>\n",
       "      <td>POINT (-1688111.645 5844439.999)</td>\n",
       "      <td>16528.875101</td>\n",
       "      <td>False</td>\n",
       "    </tr>\n",
       "    <tr>\n",
       "      <th>540369</th>\n",
       "      <td>2017-11-01 00:00:01</td>\n",
       "      <td>WME4513901K666870</td>\n",
       "      <td>9.29360</td>\n",
       "      <td>48.75934</td>\n",
       "      <td>Sulzgrieser StraÃe 105, 73733 Esslingen</td>\n",
       "      <td>100</td>\n",
       "      <td>1</td>\n",
       "      <td>2017-11-01</td>\n",
       "      <td>2</td>\n",
       "      <td>0</td>\n",
       "      <td>POINT (-1666200.956 5841448.190)</td>\n",
       "      <td>11696.187057</td>\n",
       "      <td>False</td>\n",
       "    </tr>\n",
       "    <tr>\n",
       "      <th>1084629</th>\n",
       "      <td>2017-11-01 00:00:01</td>\n",
       "      <td>WME4513901K728465</td>\n",
       "      <td>9.15659</td>\n",
       "      <td>48.84287</td>\n",
       "      <td>Marco-Polo-Weg 8, 70439 Stuttgart</td>\n",
       "      <td>100</td>\n",
       "      <td>0</td>\n",
       "      <td>2017-11-01</td>\n",
       "      <td>2</td>\n",
       "      <td>0</td>\n",
       "      <td>POINT (-1672093.973 5854685.356)</td>\n",
       "      <td>3776.176766</td>\n",
       "      <td>False</td>\n",
       "    </tr>\n",
       "  </tbody>\n",
       "</table>\n",
       "</div>"
      ],
      "text/plain": [
       "                  timestamp             car ID     long       lat   \n",
       "1355588 2017-11-01 00:00:01  WME4513901K820402  9.16004  48.78306  \\\n",
       "767009  2017-11-01 00:00:01  WME4513901K682887  9.15871  48.81197   \n",
       "504851  2017-11-01 00:00:01  WME4513901K664097  9.01996  48.70894   \n",
       "540369  2017-11-01 00:00:01  WME4513901K666870  9.29360  48.75934   \n",
       "1084629 2017-11-01 00:00:01  WME4513901K728465  9.15659  48.84287   \n",
       "\n",
       "                                            address  tank/charge level   \n",
       "1355588         KornbergstraÃe 32, 70176 Stuttgart                 81  \\\n",
       "767009     Wilhelm-Geiger-Platz 10, 70469 Stuttgart                 95   \n",
       "504851   Hugo-Distler-StraÃe 6, 71065 Sindelfingen                 84   \n",
       "540369     Sulzgrieser StraÃe 105, 73733 Esslingen                100   \n",
       "1084629           Marco-Polo-Weg 8, 70439 Stuttgart                100   \n",
       "\n",
       "         charging        Date  Weekday  Hour   \n",
       "1355588         0  2017-11-01        2     0  \\\n",
       "767009          1  2017-11-01        2     0   \n",
       "504851          0  2017-11-01        2     0   \n",
       "540369          1  2017-11-01        2     0   \n",
       "1084629         0  2017-11-01        2     0   \n",
       "\n",
       "                                 geometry  distance to Lidl Stuttgarter Str.   \n",
       "1355588  POINT (-1674638.247 5848117.906)                        3348.815438  \\\n",
       "767009   POINT (-1673384.661 5851282.209)                         521.180318   \n",
       "504851   POINT (-1688111.645 5844439.999)                       16528.875101   \n",
       "540369   POINT (-1666200.956 5841448.190)                       11696.187057   \n",
       "1084629  POINT (-1672093.973 5854685.356)                        3776.176766   \n",
       "\n",
       "         close_to_some_LIDL  \n",
       "1355588               False  \n",
       "767009                False  \n",
       "504851                False  \n",
       "540369                False  \n",
       "1084629               False  "
      ]
     },
     "metadata": {},
     "output_type": "display_data"
    }
   ],
   "source": [
    "str_nov_geo.head()"
   ]
  },
  {
   "cell_type": "markdown",
   "metadata": {},
   "source": [
    "### Task: What do you observe? <br>\n",
    "\n",
    "- Play around with the above dataframe trying using commands such as `df.head()`, `df.describe()` or `df.info()`\n",
    "- What data is gathered, for what period, in what format and at which frequency?\n",
    "- How do you explain the sudden jumps in the time-stamp?\n",
    "- What can you infer about the status of each car?"
   ]
  },
  {
   "cell_type": "code",
   "execution_count": null,
   "metadata": {},
   "outputs": [],
   "source": [
    "### YOUR CODE HERE\n",
    "\n",
    "\n",
    "\n",
    "\n",
    "\n",
    "\n",
    "\n"
   ]
  },
  {
   "attachments": {},
   "cell_type": "markdown",
   "metadata": {},
   "source": [
    "## `Descriptive Analyses`"
   ]
  },
  {
   "attachments": {},
   "cell_type": "markdown",
   "metadata": {},
   "source": [
    "Next, let's dive deeper and use graphs and plots to help us understand the data."
   ]
  },
  {
   "attachments": {},
   "cell_type": "markdown",
   "metadata": {},
   "source": [
    "### 2.1 Fleet Size and availability"
   ]
  },
  {
   "cell_type": "code",
   "execution_count": null,
   "metadata": {},
   "outputs": [],
   "source": [
    "# first, let's explore fleet size\n",
    "fleet_size = len(STR_Nov[\"car ID\"].unique())\n",
    "\n",
    "print(\"The STR fleet consists of {} cars (for the observed time frame)\".format(fleet_size))"
   ]
  },
  {
   "attachments": {},
   "cell_type": "markdown",
   "metadata": {},
   "source": [
    "Note that in STR the full active car fleet is electric and therefore constitutes a potential distributed energy resource (DER) that can be used to provide flexibility. The fleet consists of Smart EQ fortwos and Mercedes Benz A Class models each with a battery of size 17.6 kWh and charging rates of 6 kW (22kW optional)."
   ]
  },
  {
   "cell_type": "markdown",
   "metadata": {},
   "source": [
    "Let's explore fleet availability throughout the week and day by checking how many unique cars are available for each day and hour of day."
   ]
  },
  {
   "cell_type": "code",
   "execution_count": null,
   "metadata": {},
   "outputs": [],
   "source": [
    "# Availability over time (5 min intervals)\n",
    "STR_Nov_Date_avail = STR_Nov.groupby(\"timestamp\")[\"car ID\"].nunique() # this counts unique vehicles per 5-min time interval\n",
    "\n",
    "fig,ax = plt.subplots(figsize=(16,9)) \n",
    "\n",
    "ax.plot(STR_Nov_Date_avail)\n",
    "ax.set_title(\"Cars available per time interval\",fontsize=16)\n",
    "\n",
    "plt.show()"
   ]
  },
  {
   "attachments": {},
   "cell_type": "markdown",
   "metadata": {},
   "source": [
    "Next we perform some aggregations. We are interested in typical availability\n",
    "- by day of week\n",
    "- by hour"
   ]
  },
  {
   "cell_type": "code",
   "execution_count": null,
   "metadata": {},
   "outputs": [],
   "source": [
    "# Availability by day of week (0 = Monday, 6 = Sunday)\n",
    "\n",
    "STR_Nov_weekday_avail = STR_Nov.groupby([\"Date\",\"Weekday\"])[\"car ID\"].nunique()\n",
    "STR_Nov_weekday_avail = pd.DataFrame(STR_Nov_weekday_avail)\n",
    "STR_Nov_weekday_avail"
   ]
  },
  {
   "cell_type": "code",
   "execution_count": null,
   "metadata": {},
   "outputs": [],
   "source": [
    "fig,ax = plt.subplots(figsize=(10,4)) \n",
    "\n",
    "sns.boxplot(x=STR_Nov_weekday_avail.index.get_level_values(1), y=STR_Nov_weekday_avail[\"car ID\"],ax=ax)\n",
    "plt.show()"
   ]
  },
  {
   "cell_type": "code",
   "execution_count": null,
   "metadata": {},
   "outputs": [],
   "source": [
    "# Availability by time of day\n",
    "\n",
    "STR_Nov_time_avail = STR_Nov.groupby([\"Date\",\"Hour\"])[\"car ID\"].nunique()\n",
    "STR_Nov_time_avail = pd.DataFrame(STR_Nov_time_avail)"
   ]
  },
  {
   "cell_type": "code",
   "execution_count": null,
   "metadata": {},
   "outputs": [],
   "source": [
    "fig,ax = plt.subplots(figsize=(10,4)) \n",
    "\n",
    "sns.boxplot(x=STR_Nov_time_avail.index.get_level_values(1), y=STR_Nov_time_avail[\"car ID\"],ax=ax)\n",
    "plt.show()"
   ]
  },
  {
   "cell_type": "markdown",
   "metadata": {},
   "source": [
    "### Task: What do you observe? <br>\n",
    "\n",
    "- Describe the patterns of car availability shown in the descriptive graphs above. Which graphs are particularly instructive?\n",
    "- What are your assumptions regarding the cause of the observed patterns?\n",
    "- How would you expect the plot to look like if we were to plot the number of trips started?"
   ]
  },
  {
   "attachments": {},
   "cell_type": "markdown",
   "metadata": {},
   "source": [
    "### 2.2 Car Movement & Location Intelligence\n",
    "\n",
    "How can we infer car movement from this data? Let's have a look at what the data provides. A lot of what follows below is a demonstation of possible geospatial analytics tasks with limited implications for VPP operations. It is, however, highly relevant from a fleet operator's point of view (Where is the demand? Where should my units be at what time?)\n",
    "\n",
    "**Technical note**: for this tutorial we use `folium` for visualization (see [here](https://www.kaggle.com/daveianhickey/how-to-folium-for-maps-heatmaps-time-data) for a quick introduction). For more comprehensive functionality, `geopandas` offers a powerful Python GIS data handling and plotting library (see [here](http://geopandas.org))."
   ]
  },
  {
   "cell_type": "code",
   "execution_count": null,
   "metadata": {},
   "outputs": [],
   "source": [
    "# we first zip the latitude and longitude data\n",
    "STR_Nov[\"Coordinates\"] = list(zip(STR_Nov[\"lat\"].round(4),STR_Nov[\"long\"].round(4)))\n",
    "\n",
    "STR_Nov.head()"
   ]
  },
  {
   "cell_type": "markdown",
   "metadata": {},
   "source": [
    "Let us check where cars are typically located by plotting a heat map of locations for a given hour of the day."
   ]
  },
  {
   "cell_type": "code",
   "execution_count": null,
   "metadata": {
    "scrolled": true
   },
   "outputs": [],
   "source": [
    "# For performance reasons we select a single car only - pick randomly from the list\n",
    "car_list = STR_Nov[\"car ID\"].unique()\n",
    "selected_car_ID = random.choice(car_list)\n",
    "print(selected_car_ID)"
   ]
  },
  {
   "cell_type": "code",
   "execution_count": null,
   "metadata": {},
   "outputs": [],
   "source": [
    "# define new map\n",
    "STR_heat_map = folium.Map(location=(48.76507, 9.25371),tiles='OpenStreetMap',zoom_start=12, control_scale=True, max_zoom=20)\n",
    "\n",
    "# add heat map\n",
    "STR_heat_map.add_child(plugins.HeatMap(STR_Nov[STR_Nov[\"car ID\"]==selected_car_ID][\"Coordinates\"], radius=20))\n",
    "\n",
    "STR_heat_map"
   ]
  },
  {
   "attachments": {},
   "cell_type": "markdown",
   "metadata": {},
   "source": [
    "We now wish to identify the movement of the selected car. To do this, we draw the location points and trajectories."
   ]
  },
  {
   "cell_type": "code",
   "execution_count": null,
   "metadata": {
    "scrolled": true
   },
   "outputs": [],
   "source": [
    "# define empty map\n",
    "STR_map_points = folium.Map(location=(48.76507, 9.25371),  tiles='Stamen Toner', \n",
    "                       zoom_start=10, control_scale=True, max_zoom=20)\n",
    "\n",
    "\n",
    "# draw positions for selcted car\n",
    "STR_Nov_car_select = STR_Nov[STR_Nov[\"car ID\"]==selected_car_ID]\n",
    "\n",
    "positions = list(STR_Nov_car_select[\"Coordinates\"].unique())\n",
    "for position in positions:\n",
    "    folium.CircleMarker(radius=10, location=position, popup='The Waterfront', \n",
    "                                 color='crimson', fill_color='crimson').add_to(STR_map_points)\n",
    "    \n",
    "STR_map_points"
   ]
  },
  {
   "cell_type": "markdown",
   "metadata": {},
   "source": [
    "We also add the trajectories to get an understanding of the distance traveled. Do you see any problem with such an approach?"
   ]
  },
  {
   "cell_type": "code",
   "execution_count": null,
   "metadata": {
    "scrolled": true
   },
   "outputs": [],
   "source": [
    "STR_map_trajectory = folium.Map(location=(48.76507, 9.25371),  tiles='Stamen Toner', \n",
    "                       zoom_start=11, control_scale=True, max_zoom=20)\n",
    "\n",
    "# draw trajectory for a selected car\n",
    "folium.PolyLine(STR_Nov_car_select[\"Coordinates\"],color=\"blue\", weight=5, opacity=0.8, ).add_to(STR_map_trajectory)\n",
    "STR_map_trajectory"
   ]
  },
  {
   "cell_type": "markdown",
   "metadata": {},
   "source": [
    "### Task\n",
    "\n",
    "- Combine the three maps into one by defining a new map and adding all three layers to that map. How does it look?"
   ]
  },
  {
   "cell_type": "code",
   "execution_count": null,
   "metadata": {
    "scrolled": true
   },
   "outputs": [],
   "source": [
    "# define empty map\n",
    "STR_map_combined = folium.Map(location=(48.76507, 9.25371),  tiles='Stamen Toner', \n",
    "                       zoom_start=9, control_scale=True, max_zoom=20)\n",
    "\n",
    "\n",
    "# add heatmap\n",
    "STR_map_combined.add_child(plugins.HeatMap(STR_Nov[STR_Nov[\"car ID\"]==selected_car_ID][\"Coordinates\"],\n",
    "                                           radius=20))\n",
    "\n",
    "# add positions\n",
    "STR_Nov_car_select = STR_Nov[STR_Nov[\"car ID\"]==selected_car_ID]\n",
    "\n",
    "positions = list(STR_Nov_car_select[\"Coordinates\"].unique())\n",
    "for position in positions:\n",
    "    folium.CircleMarker(radius=5, location=position, popup='The Waterfront', \n",
    "                                 color='crimson', fill_color='crimson').add_to(STR_map_combined)\n",
    "\n",
    "# add trajectories\n",
    "folium.PolyLine(STR_Nov_car_select[\"Coordinates\"],color=\"blue\", weight=5, opacity=0.8, ).add_to(STR_map_combined)\n",
    "\n",
    "# plot map\n",
    "STR_map_combined"
   ]
  },
  {
   "cell_type": "markdown",
   "metadata": {},
   "source": [
    "**Note**: from the data we can also infer where charging points must be located. Let's have a look..."
   ]
  },
  {
   "cell_type": "markdown",
   "metadata": {},
   "source": [
    "### Task\n",
    "\n",
    "- How would you identify charging positions?"
   ]
  },
  {
   "cell_type": "code",
   "execution_count": null,
   "metadata": {},
   "outputs": [],
   "source": [
    "STR_Nov.head()"
   ]
  },
  {
   "cell_type": "code",
   "execution_count": null,
   "metadata": {},
   "outputs": [],
   "source": [
    "# How many charging locations are there?\n",
    "len(list(STR_Nov[STR_Nov[\"charging\"]==1][\"Coordinates\"].unique()))"
   ]
  },
  {
   "cell_type": "code",
   "execution_count": null,
   "metadata": {
    "scrolled": true
   },
   "outputs": [],
   "source": [
    "# YOUR CODE BELOW\n",
    "\n",
    "# define dataset for plotting, i.e. charging_pos\n",
    "charging_pos=list(STR_Nov[STR_Nov[\"charging\"]==1][\"Coordinates\"].unique())\n",
    "\n",
    "# define empty map\n",
    "STR_map_charging = folium.Map(location=(48.76507, 9.25371),  tiles='Stamen Toner', \n",
    "                       zoom_start=9, control_scale=True, max_zoom=20)\n",
    "\n",
    "\n",
    "# draw positions of charging positions\n",
    "for charge_point in charging_pos:\n",
    "    folium.CircleMarker(radius=3, location=charge_point, popup='The Waterfront', \n",
    "                                 color='green', fill_color='green').add_to(STR_map_charging)\n",
    "    \n",
    "STR_map_charging"
   ]
  },
  {
   "attachments": {},
   "cell_type": "markdown",
   "metadata": {},
   "source": [
    "### Task & Discussion: Limitations and how to deal with them?\n",
    "\n",
    "- Play around with the map above and try for different vehicles by repeatedly executing the code - What do you observe?\n",
    "- What are the key limitations of this data granularity?\n",
    "- What are approaches to infering distance traveled?\n",
    "- What are approaches to infering the exact route traveled?"
   ]
  },
  {
   "attachments": {},
   "cell_type": "markdown",
   "metadata": {},
   "source": [
    "### 2.3 Capacity Availability\n",
    "\n",
    "We now wish to understand how much capacity we have available at any given point in time and can, therefore, use to trade in the ancillary market. For this we first need to define how many cars are charging at a particular instance. Also, remember the following technical information regarding the fleet:\n",
    "\n",
    "- Battery capacity: 17.6 kWh\n",
    "- Charging rate: 6 kW\n",
    "- Optional fast charging: 22 kW"
   ]
  },
  {
   "attachments": {},
   "cell_type": "markdown",
   "metadata": {},
   "source": [
    "#### 2.3.1 Capacity for trading in the ancillary services market"
   ]
  },
  {
   "cell_type": "code",
   "execution_count": null,
   "metadata": {},
   "outputs": [],
   "source": [
    "Battery_energy_capa = 17.6 #kWh\n",
    "Charging_rate = 6 #kW\n",
    "Charging_rate_fast = 22 #kW\n",
    "Max_EV_range = 200 #km"
   ]
  },
  {
   "cell_type": "code",
   "execution_count": null,
   "metadata": {},
   "outputs": [],
   "source": [
    "# Cars connected at a given point in time (we can simply sum the charging dummies)\n",
    "STR_Nov_charging = STR_Nov.groupby(\"timestamp\")[\"charging\"].sum()\n",
    "\n",
    "fig,ax = plt.subplots(figsize=(16,9)) \n",
    "\n",
    "ax.plot(STR_Nov_charging)\n",
    "\n",
    "ax.set_title(\"# cars connected at a given point in time\")\n",
    "ax.set_ylabel(\"# of cars\")\n",
    "ax.set_xlabel(\"Date\")\n",
    "\n",
    "plt.show()"
   ]
  },
  {
   "cell_type": "code",
   "execution_count": null,
   "metadata": {},
   "outputs": [],
   "source": [
    "# Let us look at trends over the day - How many cars get connected per hour per time of day?\n",
    "STR_Nov_charging_tod = pd.DataFrame(STR_Nov[STR_Nov[\"charging\"]==1]).groupby([\"Date\",\"Hour\"])[\"car ID\"].nunique()\n",
    "STR_Nov_charging_tod = pd.DataFrame(STR_Nov_charging_tod)\n",
    "\n",
    "STR_Nov_charging_tod.head(10)"
   ]
  },
  {
   "cell_type": "code",
   "execution_count": null,
   "metadata": {},
   "outputs": [],
   "source": [
    "fig,ax = plt.subplots(figsize=(16,9)) \n",
    "\n",
    "sns.boxplot(x=STR_Nov_charging_tod.index.get_level_values(1), y=STR_Nov_charging_tod[\"car ID\"],ax=ax)\n",
    "ax.set_title(\"# cars connected by time of day (hour intervals)\")\n",
    "plt.show()"
   ]
  },
  {
   "cell_type": "code",
   "execution_count": null,
   "metadata": {},
   "outputs": [],
   "source": [
    "# after knowing the number of cars (= number of batteries) connected, let's transform this into available capacity\n",
    "fig, ax = plt.subplots(figsize=(16,9), ncols=2, nrows=1, sharex=True, sharey=True)\n",
    "\n",
    "STR_Nov_capa_normal = STR_Nov.groupby(\"timestamp\")[\"charging\"].sum()*Charging_rate\n",
    "STR_Nov_capa_fast = STR_Nov.groupby(\"timestamp\")[\"charging\"].sum()*Charging_rate_fast\n",
    "\n",
    "# Normal speed______\n",
    "ax[0].set_title(\"Capacity per 5 min slot with 6kW charging [kW]\")\n",
    "ax[0].plot(STR_Nov_capa_normal, \"--b\")\n",
    "\n",
    "# fast speed_______\n",
    "ax[1].set_title(\"Capacity per 5 min slot with 22kW charging [kW]\")\n",
    "ax[1].plot(STR_Nov_capa_fast, \"--g\")\n",
    "\n",
    "plt.show()"
   ]
  },
  {
   "attachments": {},
   "cell_type": "markdown",
   "metadata": {},
   "source": [
    "### Task:\n",
    "\n",
    "- What patterns do you see? Why? Do you see scope for building a strong predictive model?\n",
    "- How do you evaluate the case of using the VPP in the ancillary services markets (secondary reserve) (compare fast charging and normal charging case)? Given current market designs, can an EV VPP be successful?\n",
    "- Is there scope for raising capacity at a given point in time? What are innovative apporaches towards raising available capacity at any given point in time? (compare against # of idle cars, charging station positions etc.)\n",
    "- Recall the mechanism of the secondary reserve market: participants use bids for a capacity price for every 15min. Do you see any issues/constraints in using electric vehicle batteries as secondary reserve? How can the fleet operator ensure that the VPP can deliver the required capacity over the full pledged period?"
   ]
  },
  {
   "attachments": {},
   "cell_type": "markdown",
   "metadata": {},
   "source": [
    "#### 2.3.2 What is the battery constraint for balancing capacity provision?\n",
    "\n",
    "In the ancillary services market you pledge capacity (in kW) for which you get reimbursed. If you get called (either for upwards or downwards regulation) you need to feed in or consume at this rate (or below). Therefore, as a plant operator, you need to demonstrate that you will be able to sustain the pledged load for the full 15min time interval.\n",
    "\n",
    "To verify, we explore the state of charge across time for the cars that are charging as this will give us an indication for the energy that is available for upwards and downwards regulation (i.e. the time frame for which the VPP can be called) - an important constraint!"
   ]
  },
  {
   "cell_type": "code",
   "execution_count": null,
   "metadata": {},
   "outputs": [],
   "source": [
    "# connected battery capacity (in kWh)\n",
    "\n",
    "# What do we have available for downwards regulation (i.e. how much energy can be absorbed?)\n",
    "STR_Nov[\"Connected free Battery Capacity [kWh]\"] = ((100-STR_Nov[\"tank/charge level\"])/100)*Battery_energy_capa*STR_Nov[\"charging\"]\n",
    "\n",
    "# What do we have available for upwards regulation (i.e. how much energy can be fed back into the grid?)\n",
    "STR_Nov[\"Connected SOC [kWh]\"] = ((STR_Nov[\"tank/charge level\"])/100)*Battery_energy_capa*STR_Nov[\"charging\"]\n",
    "\n",
    "STR_Nov.head()"
   ]
  },
  {
   "cell_type": "code",
   "execution_count": null,
   "metadata": {},
   "outputs": [],
   "source": [
    "Connected_downwards_energy = STR_Nov[STR_Nov[\"charging\"]==1].groupby(\"timestamp\")[\"Connected free Battery Capacity [kWh]\"].sum()\n",
    "Connected_upwards_energy = STR_Nov[STR_Nov[\"charging\"]==1].groupby(\"timestamp\")[\"Connected SOC [kWh]\"].sum()"
   ]
  },
  {
   "cell_type": "code",
   "execution_count": null,
   "metadata": {},
   "outputs": [],
   "source": [
    "fig, ax = plt.subplots(figsize=(16,9), ncols=2, nrows=1, sharex=True, sharey=True)\n",
    "\n",
    "# downwards capacity\n",
    "ax[0].set_title(\"Downwards energy [kWh]\")\n",
    "ax[0].plot(Connected_downwards_energy, \"--b\")\n",
    "\n",
    "# upwards capacity\n",
    "ax[1].set_title(\"Upwards energy [kWh]\")\n",
    "ax[1].plot(Connected_upwards_energy, \"--g\")\n",
    "\n",
    "plt.show()"
   ]
  },
  {
   "attachments": {},
   "cell_type": "markdown",
   "metadata": {},
   "source": [
    "### Task:\n",
    "\n",
    "- How do you determine whether enough energy/storage capacity is available?\n",
    "- From inspecting the graph above and comparing with the available capacity from above, is there a relevant state of charge constraint? Is it a problem? How big of a problem is it?\n",
    "- How does this constraint influence the capacity that can be pledged in the capacity markets?"
   ]
  },
  {
   "attachments": {},
   "cell_type": "markdown",
   "metadata": {},
   "source": [
    "### 2.4 Rental demand and vehicle utilization\n",
    "\n",
    "We now wish to understand in more detail the rental demand in Stuttgart. First, we need a full understanding of car status for the different years. We distinguish the following four states:\n",
    "\n",
    "+ **parked, not charging**: charging = 0, $address_{(t-1)}$ = $address_t$\n",
    "+ **parked, charging**: charging = 1, $address_{(t-1)}$ = $address_t$\n",
    "+ **rented (start)**: charging = 0, $address_{(t-1)}$ = $address_t$, $address_{(t-1)}$ <> $address_t$\n",
    "+ **rented (end)**: charging = 0, $address_{(t-1)}$ <> $address_t, address_{(t-1)}$ = $address_t$"
   ]
  },
  {
   "cell_type": "code",
   "execution_count": null,
   "metadata": {},
   "outputs": [],
   "source": [
    "# remember the columns in our dataset\n",
    "STR_Nov.columns"
   ]
  },
  {
   "cell_type": "code",
   "execution_count": null,
   "metadata": {},
   "outputs": [],
   "source": [
    "# let's rename the columns\n",
    "columns = ['timestamp', 'carID', 'long', 'lat', 'address', 'soc','charging', 'date', 'weekday', 'hour', 'coordinates','connected free capacity', 'connected soc']\n",
    "STR_Nov.columns = columns\n",
    "STR_Nov.head(2)"
   ]
  },
  {
   "cell_type": "code",
   "execution_count": null,
   "metadata": {},
   "outputs": [],
   "source": [
    "def calculate_trips(df_car):\n",
    "    \n",
    "    trips = list()\n",
    "    \n",
    "    prev = df_car.iloc[0]\n",
    "    \n",
    "    # iterate over rows\n",
    "    for row in df_car.itertuples():\n",
    "        \n",
    "        if row.address != prev.address:\n",
    "            trips.append([prev.carID, \n",
    "                          prev.timestamp, \n",
    "                          prev.address, \n",
    "                          prev.lat, \n",
    "                          prev.long, \n",
    "                          prev.soc, \n",
    "                          row.timestamp,\n",
    "                          row.address, \n",
    "                          row.lat, \n",
    "                          row.long, \n",
    "                          row.soc])\n",
    "        prev = row # set prev to row (will be r-1 for next iteration)\n",
    "\n",
    "    return pd.DataFrame(\n",
    "        trips,\n",
    "        columns=[\n",
    "            \"EV\",\n",
    "            \"start_time\",\n",
    "            \"start_address\",\n",
    "            \"start_lat\",\n",
    "            \"start_lon\",\n",
    "            \"start_soc\",\n",
    "            \"end_time\",\n",
    "            \"end_address\",\n",
    "            \"end_lat\",\n",
    "            \"end_lon\",\n",
    "            \"end_soc\"],\n",
    "    )"
   ]
  },
  {
   "cell_type": "code",
   "execution_count": null,
   "metadata": {},
   "outputs": [],
   "source": [
    "# define processing function for cleaning\n",
    "\n",
    "def process(df):\n",
    "    \"\"\"Executes all preprocessing steps sequentially\"\"\"\n",
    "\n",
    "    # GPS accuracy is only guaranteed at a granularity of 10m, round accordingly.\n",
    "    # See also: https://wiki.openstreetmap.org/wiki/Precision_of_coordinates.\n",
    "    df[[\"lat\", \"long\"]] = df[\n",
    "        [\"lat\", \"long\"]].round(4)\n",
    "    \n",
    "\n",
    "    df.sort_values([\"carID\",\"timestamp\"], inplace=True)\n",
    "\n",
    "    # define lists\n",
    "    trips = list()\n",
    "    cars = df[\"carID\"].unique()\n",
    "    \n",
    "    # loop\n",
    "    for car in cars:\n",
    "        ev_trips = calculate_trips(df[df[\"carID\"] == car])\n",
    "        trips.append(ev_trips)\n",
    "\n",
    "    df_trips = pd.concat(trips)\n",
    "    df_trips = df_trips.sort_values(\"start_time\").reset_index().drop(\"index\", axis=1)\n",
    "    \n",
    "    return df_trips"
   ]
  },
  {
   "cell_type": "code",
   "execution_count": null,
   "metadata": {},
   "outputs": [],
   "source": [
    "STR_Nov_trips = process(STR_Nov)"
   ]
  },
  {
   "cell_type": "code",
   "execution_count": null,
   "metadata": {},
   "outputs": [],
   "source": [
    "# To do: Do some cleaning, e.g. remove very long trips or trips with no distance"
   ]
  },
  {
   "cell_type": "code",
   "execution_count": null,
   "metadata": {},
   "outputs": [],
   "source": [
    "STR_Nov_trips.head()"
   ]
  },
  {
   "cell_type": "code",
   "execution_count": null,
   "metadata": {},
   "outputs": [],
   "source": [
    "# Add distance\n",
    "\n",
    "# Approach 1: Infer using SOC; problem: cannot use this approach in case car has been charged during trip\n",
    "\n",
    "def distance(soc_diff):\n",
    "    if soc_diff<=0:\n",
    "        dist = -soc_diff/100 * Max_EV_range\n",
    "        return dist\n",
    "    else:\n",
    "        return np.nan # if EV has been charged during\n",
    "    \n",
    "# Approach 2: Use Haversine distance to find geodesic distance (see: https://janakiev.com/blog/gps-points-distance-python/)\n",
    "### Not implemented here\n",
    "\n",
    "# Approach 3: OpenStreetMaps Route Calc (OSMnx is an excellent library for this)\n",
    "### Not implemented here\n",
    "\n",
    "### here we use Approach 1\n",
    "STR_Nov_trips[\"distance_soc\"] = (STR_Nov_trips[\"end_soc\"]-STR_Nov_trips[\"start_soc\"]).apply(distance)"
   ]
  },
  {
   "cell_type": "code",
   "execution_count": null,
   "metadata": {},
   "outputs": [],
   "source": [
    "# add trip duration\n",
    "# max. over-estimation of duration by ca. 10 min \n",
    "# (rent just before next 5min stamp and return just after second to last stamp)\n",
    "\n",
    "STR_Nov_trips[\"duration\"] = STR_Nov_trips[\"end_time\"] - STR_Nov_trips[\"start_time\"]"
   ]
  },
  {
   "cell_type": "code",
   "execution_count": null,
   "metadata": {},
   "outputs": [],
   "source": [
    "STR_Nov_trips.head()"
   ]
  },
  {
   "cell_type": "code",
   "execution_count": null,
   "metadata": {},
   "outputs": [],
   "source": [
    "# check occurences where distance metric fails \n",
    "# -> no way of infering actual distance traveled\n",
    "\n",
    "len(STR_Nov_trips[STR_Nov_trips[\"distance_soc\"].isna() == True])/len(STR_Nov_trips)#.head()"
   ]
  },
  {
   "cell_type": "code",
   "execution_count": null,
   "metadata": {},
   "outputs": [],
   "source": [
    "STR_Nov_trips_total_rental = STR_Nov_trips[[\"EV\",\"duration\"]].groupby(\"EV\").sum()"
   ]
  },
  {
   "cell_type": "code",
   "execution_count": null,
   "metadata": {},
   "outputs": [],
   "source": [
    "STR_Nov_trips_total_rental[\"utilization\"] = STR_Nov_trips_total_rental[\"duration\"]/ (np.timedelta64(15,'D'))"
   ]
  },
  {
   "cell_type": "code",
   "execution_count": null,
   "metadata": {},
   "outputs": [],
   "source": [
    "sns.histplot(STR_Nov_trips_total_rental[\"utilization\"], bins=50, kde=True)\n",
    "plt.show()"
   ]
  },
  {
   "cell_type": "markdown",
   "metadata": {},
   "source": [
    "## Tasks\n",
    "\n",
    "- What patterns do you observe in rental demand and utilization?\n",
    "- What is the issue with the above view on rental demand? How best to deal with it?\n",
    "- How do you evaluate the capacity utilization of the cars? Does the sharing economy deliver on its promise of higher capital utilization?\n",
    "- How would you go about forecasting rental demand? What key factors can you think of that could be used in a predictive model to forecast rental demand?"
   ]
  }
 ],
 "metadata": {
  "kernelspec": {
   "display_name": "Python 3",
   "language": "python",
   "name": "python3"
  },
  "language_info": {
   "codemirror_mode": {
    "name": "ipython",
    "version": 3
   },
   "file_extension": ".py",
   "mimetype": "text/x-python",
   "name": "python",
   "nbconvert_exporter": "python",
   "pygments_lexer": "ipython3",
   "version": "3.11.2"
  }
 },
 "nbformat": 4,
 "nbformat_minor": 4
}
